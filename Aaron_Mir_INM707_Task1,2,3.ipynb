{
 "metadata": {
  "language_info": {
   "codemirror_mode": {
    "name": "ipython",
    "version": 3
   },
   "file_extension": ".py",
   "mimetype": "text/x-python",
   "name": "python",
   "nbconvert_exporter": "python",
   "pygments_lexer": "ipython3",
   "version": 3
  },
  "orig_nbformat": 2
 },
 "nbformat": 4,
 "nbformat_minor": 2,
 "cells": [
  {
   "source": [
    "# INM707 Coursework\n",
    "### Aaron Mir (Student Number: 160001207)\n",
    "<img src=\"All_Tasks.png\" alt=\"All_TasksOverview\" width=\"700\"/>  <img src=\"Task_1.png\" alt=\"Task_1\" width=\"700\"/>"
   ],
   "cell_type": "markdown",
   "metadata": {}
  },
  {
   "source": [
    "Environment: The agent is preparing for an upcoming mission in which they are to infiltrate an enemy stronghold to gather intelligence on a potential coup d'état. The enemy land is in the form of an NxN grid with each grid containing one stronghold of size N/2xN (at a random position) and a wide river surrounding the entire enemy land. A stronghold has two entrances and contains dangerous enemy combatants (at random positions) within the stronghold that move around (stochasticity) per step. The land inside the stronghold has no transition probability associated with it (deterministic). The land surrounding each stronghold is booby-trapped and covered in fog which means that there is both land which can kill the agent as well as normal land and a transition probability associated with each step (stochasticity) outside the stronghold. The goal of the agent is to infiltrate the stronghold and gather the intelligence without being seen/killed by enemy combatants or booby traps.\n",
    "\n",
    "One stronghold with enemies that move around? or two strongholds with static enemies?\n",
    "\n",
    "Rewards: +100 for getting intelligence, -1000 for getting killed by a combatant or booby trap, -1 for moving into a wall or water\n",
    "\n",
    "Terminal States: agent moves to the intelligence, if agent moves to a trap and dies, if the agent moves to an enemy combatant."
   ],
   "cell_type": "markdown",
   "metadata": {}
  },
  {
   "cell_type": "code",
   "execution_count": null,
   "metadata": {},
   "outputs": [],
   "source": [
    "import numpy as np\n",
    "import matplotlib.pyplot as plt"
   ]
  },
  {
   "cell_type": "code",
   "execution_count": null,
   "metadata": {},
   "outputs": [],
   "source": [
    "class Stronghold():\n",
    "    def __init__(self, size):\n",
    "        self.size = size\n",
    "        self.actions = {0: 'Up', 1: 'Down', 2: 'Left', 3: 'Right'}\n",
    "    \n",
    "    def env_gen(self):\n",
    "\n",
    "        return land\n",
    "    \n",
    "    def step(self, action):\n",
    "        \n",
    "        return next_state, reward, done\n",
    "    \n",
    "    def reset():\n",
    "        pass\n",
    "\n",
    "    def render(): # displays\n",
    "        pass\n",
    "\n"
   ]
  },
  {
   "cell_type": "code",
   "execution_count": null,
   "metadata": {},
   "outputs": [],
   "source": [
    "class Policies():\n",
    "    def __init__(self):\n",
    "        pass\n",
    "    \n",
    "    def random_policy(self):\n",
    "        pass"
   ]
  },
  {
   "cell_type": "code",
   "execution_count": null,
   "metadata": {},
   "outputs": [],
   "source": [
    "env = Stronghold(10)"
   ]
  }
 ]
}