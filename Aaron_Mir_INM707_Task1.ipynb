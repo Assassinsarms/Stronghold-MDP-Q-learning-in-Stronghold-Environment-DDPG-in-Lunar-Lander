{
 "cells": [
  {
   "cell_type": "markdown",
   "metadata": {},
   "source": [
    "# INM707 Coursework Task 1\r\n",
    "### Aaron Mir (Student Number: 160001207)\r\n"
   ]
  },
  {
   "cell_type": "markdown",
   "metadata": {},
   "source": [
    "## Setting up MDP Environment"
   ]
  },
  {
   "cell_type": "code",
   "execution_count": 3,
   "metadata": {},
   "outputs": [],
   "source": [
    "##--------------------Coding References---------------------## <img src=\"All_Tasks.png\" alt=\"All_TasksOverview\" width=\"700\"/>  <img src=\"Task_1.png\" alt=\"Task_1\" width=\"700\"/>\r\n",
    "# Percentage of borrowed code: 5% - Modelled environment generaly like OpenAI Discrete Environments\r\n",
    "# [1] OpenAI (2020) OpenAI Discrete Environments, \r\n",
    "# Available at: https://github.com/openai/gym/tree/38a1f630dc9815a567aaf299ae5844c8f8b9a6fa/gym/envs/toy_text (Accessed: 28th Feb 2021)."
   ]
  },
  {
   "cell_type": "markdown",
   "metadata": {},
   "source": [
    "***\r\n",
    "## Stronghold\r\n",
    "\r\n",
    "The robot agent is preparing for an upcoming mission in which they are to infiltrate an enemy stronghold to gather intelligence on a potential coup d'état. The enemy land is in the form of an NxN grid with each grid containing one stronghold of size N x N/2 (starting on either side of the middle column (randomly decided)) and a wide river surrounding the entire enemy land. The entire land is very misty, therefore the robot may not step where it is supposed to. Each move has a transition probability associated with it (0.7 to move to the chosen state or 0.3 to move to one of the other sides) (stochasticity). The stronghold has as many entrances from the mainland as (1/4)N and contains (1/5)N dangerous enemy combatants (at random positions) within the stronghold that move around randomly per step (stochasticity).  The amount of shore that has traps on it is (1/4)N x rows of shore. The column immediately beside the stronghold is normal land to prevent entrance blocking. The goal of the agent is to infiltrate the stronghold and gather the intelligence without being killed by enemy combatants or booby traps as fast as possible.\r\n",
    "\r\n",
    "This is a type of gridworld environment. The size (number of states) can be controlled by adjusting the grid dimensions.\r\n",
    "\r\n",
    "The environment is defined as follows:\r\n",
    "\r\n",
    "- The environment is a rectangular grid of states/cells. There are five different types of cells as indicated by the following cell labels: \r\n",
    "\r\n",
    "    - _ labels cells that are safe to step on i.e. normal land [0]\r\n",
    "\r\n",
    "    - X labels the cells that are walls i.e. river or wall and if the agent enters a wall cell, there is a penalty of -1 [1]\r\n",
    "    \r\n",
    "    - A labels the cell the agent is on, starts on a random cell on the shore [2]\r\n",
    "    \r\n",
    "    - T labels booby-trap cells and if the agent enters a booby-trap cell there is a penalty of -1000 and the episode ends [3]\r\n",
    "\r\n",
    "    - E labels enemy cells and if the agent enters an enemy cell there is a penalty of -1000 and the episode ends [4]\r\n",
    "\r\n",
    "    - I labels the intelligence cell and when reached gives a reward of 2000 and the episode ends [5]\r\n",
    "\r\n",
    "- There are four possible actions (Up, Down, Left, Right). \r\n",
    "\r\n",
    "- The transition function moves the agent in the expected direction with 0.7 probability, and there is a 0.3 probability of transitioning to one of the sides.\r\n",
    "\r\n",
    "- There is a reward of -1 for each action taken by the agent, which is intended to encourage the agent to reach the goal as fast as possible. If the agent runs out of time, the episode ends. \r\n",
    "\r\n",
    "- Episodes end whenever the agent falls in a booby-trap, gets killed by an enemy, reaches the goal/intelligence or runs out of time. The end-of-episode is modelled by transitioning to a zero-reward terminal state (all actions lead to that state). \r\n",
    "\r\n",
    "State of the agent: Governed by the state number of the cell it is on.\r\n",
    "\r\n",
    "Rewards/Penalties: +2000 for getting intelligence, -1000 for getting hurt by a combatant or booby trap, -1 for moving into a wall or water, -1 per transition because of fuel constraints\r\n",
    "\r\n",
    "***"
   ]
  },
  {
   "cell_type": "code",
   "execution_count": 1,
   "metadata": {},
   "outputs": [],
   "source": [
    "from stronghold.stronghold import Stronghold\r\n",
    "import numpy as np\r\n",
    "import matplotlib.pyplot as plt\r\n",
    "import sys\r\n",
    "import time\r\n",
    "from IPython.display import clear_output\r\n",
    "np.set_printoptions(threshold=sys.maxsize, linewidth=sys.maxsize, precision = 2)"
   ]
  },
  {
   "cell_type": "code",
   "execution_count": 6,
   "metadata": {},
   "outputs": [
    {
     "data": {
      "image/png": "[encoded data removed]",
      "text/plain": "<Figure size 360x360 with 1 Axes>"
     },
     "metadata": {
      "needs_background": "light"
     },
     "output_type": "display_data"
    }
   ],
   "source": [
    "env_size = 11\r\n",
    "simplicity = 6\r\n",
    "stronghold = Stronghold(env_size, simplicity)\r\n",
    "stronghold.reset()\r\n",
    "stronghold.render()"
   ]
  },
  {
   "cell_type": "code",
   "execution_count": 6,
   "metadata": {},
   "outputs": [],
   "source": [
    "def random_policy(): \r\n",
    "    return np.random.randint(0, stronghold.getActionSpace() - 1)\r\n",
    "\r\n",
    "def evaluate_policy(env, policy, episodes = 1000, view = True, print_ep_reward=False):\r\n",
    "    # renders the environment and agent at each step if view is True\r\n",
    "    # this takes up time so if you want it to be quicker just set view to False\r\n",
    "    total_evaluation_reward = 0\r\n",
    "    for i in range(episodes):                   # iterating over a certain number of episodes \r\n",
    "        env.reset()\r\n",
    "        episode_reward = 0\r\n",
    "        done = False\r\n",
    "        state, reward, done, info = env.step(policy)\r\n",
    "        episode_reward += reward\r\n",
    "        total_evaluation_reward += reward\r\n",
    "        while not done:\r\n",
    "            state, reward, done, info = env.step(policy)        # perform random step\r\n",
    "            episode_reward += reward\r\n",
    "            total_evaluation_reward += reward\r\n",
    "            if view == True:\r\n",
    "                print(\"state\", state)\r\n",
    "                env.render()\r\n",
    "                time.sleep(0.5)\r\n",
    "                clear_output(wait=True)\r\n",
    "        if print_ep_reward == True:\r\n",
    "            print(\"Total reward for trial = \", episode_reward)\r\n",
    "    return total_evaluation_reward / episodes                   # return average reward over all episodes"
   ]
  },
  {
   "cell_type": "code",
   "execution_count": 19,
   "metadata": {},
   "outputs": [
    {
     "name": "stdout",
     "output_type": "stream",
     "text": [
      "Total reward for trial =  927\n",
      "Total reward for trial =  -1001\n",
      "Total reward for trial =  -1000\n",
      "Total reward for trial =  858\n",
      "Total reward for trial =  970\n",
      "Total reward for trial =  954\n",
      "Total reward for trial =  -1019\n",
      "Total reward for trial =  -1085\n",
      "Total reward for trial =  -1004\n",
      "Total reward for trial =  -1021\n",
      "Average reward: -242.1\n"
     ]
    }
   ],
   "source": [
    "env_size = 11\r\n",
    "simplicity = 4\r\n",
    "stronghold = Stronghold(env_size, simplicity)            \r\n",
    "print(\"Average reward:\", evaluate_policy(stronghold, random_policy(), episodes=10, view=False, print_ep_reward=True)) # <- set view to True if you want the environment to show during evaluation and print to see the reward per episode"
   ]
  },
  {
   "cell_type": "code",
   "execution_count": 21,
   "metadata": {},
   "outputs": [
    {
     "name": "stdout",
     "output_type": "stream",
     "text": [
      "Average reward: -772.561\n"
     ]
    }
   ],
   "source": [
    "env_size = 11\r\n",
    "simplicity = 6\r\n",
    "stronghold = Stronghold(env_size, simplicity)            \r\n",
    "print(\"Average reward:\", evaluate_policy(stronghold, random_policy(), episodes=1000, view=False, print_ep_reward=False)) "
   ]
  },
  {
   "cell_type": "code",
   "execution_count": 31,
   "metadata": {},
   "outputs": [
    {
     "name": "stdout",
     "output_type": "stream",
     "text": [
      "Average reward: -1043.9177\n"
     ]
    }
   ],
   "source": [
    "env_size = 21\r\n",
    "simplicity = 6\r\n",
    "stronghold = Stronghold(env_size, simplicity)            \r\n",
    "print(\"Average reward:\", evaluate_policy(stronghold, random_policy(), episodes=10000, view=False, print_ep_reward=False)) "
   ]
  }
 ],
 "metadata": {
  "kernelspec": {
   "display_name": "Python 3.8.7 64-bit",
   "name": "python387jvsc74a57bd02db524e06e9f5f4ffedc911c917cb75e12dbc923643829bf417064a77eb14d37"
  },
  "language_info": {
   "codemirror_mode": {
    "name": "ipython",
    "version": 3
   },
   "file_extension": ".py",
   "mimetype": "text/x-python",
   "name": "python",
   "nbconvert_exporter": "python",
   "pygments_lexer": "ipython3",
   "version": "3.8.7"
  },
  "orig_nbformat": 2
 },
 "nbformat": 4,
 "nbformat_minor": 2
}