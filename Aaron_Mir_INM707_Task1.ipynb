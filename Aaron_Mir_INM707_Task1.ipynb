{
 "metadata": {
  "language_info": {
   "codemirror_mode": {
    "name": "ipython",
    "version": 3
   },
   "file_extension": ".py",
   "mimetype": "text/x-python",
   "name": "python",
   "nbconvert_exporter": "python",
   "pygments_lexer": "ipython3",
   "version": "3.8.7-final"
  },
  "orig_nbformat": 2,
  "kernelspec": {
   "name": "python3",
   "display_name": "Python 3.8.7 64-bit",
   "metadata": {
    "interpreter": {
     "hash": "2db524e06e9f5f4ffedc911c917cb75e12dbc923643829bf417064a77eb14d37"
    }
   }
  }
 },
 "nbformat": 4,
 "nbformat_minor": 2,
 "cells": [
  {
   "source": [
    "# INM707 Coursework\n",
    "### Aaron Mir (Student Number: 160001207)\n"
   ],
   "cell_type": "markdown",
   "metadata": {}
  },
  {
   "cell_type": "code",
   "execution_count": 3,
   "metadata": {},
   "outputs": [],
   "source": [
    "##--------------------Coding References---------------------## <img src=\"All_Tasks.png\" alt=\"All_TasksOverview\" width=\"700\"/>  <img src=\"Task_1.png\" alt=\"Task_1\" width=\"700\"/>\n",
    "# Percentage of borrowed code: X% - \n",
    "# [1] "
   ]
  },
  {
   "source": [
    "***\n",
    "## Stronghold\n",
    "\n",
    "The robot agent is preparing for an upcoming mission in which they are to infiltrate an enemy stronghold to gather intelligence on a potential coup d'état. The enemy land is in the form of an NxN grid with each grid containing one stronghold of size N x N/2 (starting on either side of the middle column (randomly decided)) and a wide river surrounding the entire enemy land. The entire land is very misty, therefore the robot may not step where it is supposed to. Each move has a transition probability associated with it (0.8 to move to the chosen state or 0.2 to move to either side) (stochasticity). The stronghold has as many entrances from the mainland as (1/4)N and contains (1/5)N dangerous enemy combatants (at random positions) within the stronghold that move around randomly per step (stochasticity).  The amount of shore that has traps on it is (1/4)N x rows of shore. The column immediately beside the stronghold is normal land to prevent entrance blocking. The goal of the agent is to infiltrate the stronghold and gather the intelligence without being killed by enemy combatants or booby traps as fast as possible.\n",
    "\n",
    "This is a type of gridworld environment. The size (number of states) can be controlled by adjusting the grid dimensions. The environment is intended to model the process of navigating a frozen lake, while avoiding falling into holes with the objective of reaching a goal location. \n",
    "\n",
    "The environment is defined as follows:\n",
    "\n",
    "- The environment is a rectangular grid of states/cells. There are five different types of cells as indicated by the following cell labels: \n",
    "\n",
    "    - _ labels cells that are safe to step on i.e. normal land [0]\n",
    "\n",
    "    - X labels the cells that are walls i.e. river or wall and if the agent enters a wall cell, there is a penalty of -1 [1]\n",
    "    \n",
    "    - A labels the cell the agent is on, starts on a random cell on the shore [2]\n",
    "    \n",
    "    - T labels booby-trap cells and if the agent enters a booby-trap cell there is a pentalty of -1000 and the episode ends [3]\n",
    "\n",
    "    - E labels enemy cells and if the agent enters an enemy cell there is a pentalty of -1000 and the episode ends [4]\n",
    "\n",
    "    - I labels the intelligence cell and when reached gives a reward of 1000 and the episode ends [5]\n",
    "\n",
    "- There are four possible actions (Up, Down, Left, Right). \n",
    "\n",
    "- The transition function moves the agent in the expected direction with 0.8 probability, and there is a 0.2 probability of transitioning to one of the sides.\n",
    "\n",
    "- There is a reward of -1 for each action taken by the agent, which is intended to encourage the agent to reach the goal as fast as possible. If the agent runs out of time, the episode ends. \n",
    "\n",
    "- Episodes end whenever the agent falls in a hole or reaches the goal. An end-of-episode is modeled by transitioning to a zero-reward terminal state (all actions lead to that state). \n",
    "\n",
    "State of the agent: Governed by the index of the cell it is on.\n",
    "\n",
    "States of the environment: Governed by the index of the agent and the index of moving enemies.\n",
    "\n",
    "Number of states of the environment is given by the size of the grid and the size of the stronghold in which enemies can move. e.g. for a 10x10 grid with a stronghold size of 6x3 and 6 enemies, the number of states is 100 - 6x3-1 +  (6x3-1 (because of starting state)/6)  - 1 (because of the intelligence in the stronghold)\n",
    "\n",
    "Rewards/Penalties: +1000 for getting intelligence, -1000 for getting hurt by a combatant or booby trap, -1 for moving into a wall or water, -1 per transition because of fuel constraints\n",
    "\n",
    "***"
   ],
   "cell_type": "markdown",
   "metadata": {}
  },
  {
   "source": [
    "Observations will be fed into the dqn"
   ],
   "cell_type": "markdown",
   "metadata": {}
  },
  {
   "source": [
    "Checklist:\n",
    "\n",
    "The MDP consists of states, a transition probability, a reward function, and also actions\n",
    "\n",
    "    1. Estabilish states (done, represented by the cell the agent is on)\n",
    "    2. Estabilish transition probability matrix (done)\n",
    "    3. Estabilish rewards matrix (done)\n",
    "    4. Establish return G\n",
    "    5. Sort out enemy movement (done, enemies move within the stronghold)\n",
    "    6. Implement partial observability (done)\n",
    "    7. Improve visualisation (done)"
   ],
   "cell_type": "markdown",
   "metadata": {}
  },
  {
   "cell_type": "code",
   "execution_count": 4,
   "metadata": {},
   "outputs": [],
   "source": [
    "import numpy as np\n",
    "import matplotlib.pyplot as plt\n",
    "np.set_printoptions(threshold=sys.maxsize, linewidth=sys.maxsize, precision = 2)"
   ]
  },
  {
   "cell_type": "code",
   "execution_count": 5,
   "metadata": {},
   "outputs": [],
   "source": [
    "# the state of the agent is entirely described by either the coordinates of the cell it is on, or the index of the cell.\n",
    "# the value function (can be represented as a dictionary, or an array) that maps the state to the value of the state. As we don't know the true value at the beginning, it will be initialized at 1.\n",
    "# the current state is given by self.position_agent gives the state i.e. its index\n",
    "# the actions will be the direct cells that an agent can go to from a particular cell or up down left right\n",
    "# the rewards will be given to a robot if a cell/state is directly reachable from the current state."
   ]
  },
  {
   "cell_type": "code",
   "execution_count": 102,
   "metadata": {},
   "outputs": [],
   "source": [
    "class Stronghold(): # discrete.DiscreteEnv\n",
    "    def __init__(self, size):\n",
    "        self.size = size\n",
    "        self.actions = {0: 'Up', 1: 'Down', 2: 'Left', 3: 'Right'}\n",
    "        self.land = self.env_gen()\n",
    "        self.position_agent = None                                 # initial position of the agent will be decided by resetting the environment\n",
    "        self.time_elapsed = 0                                      # run time\n",
    "        self.time_limit = self.size**2\n",
    "        self.numActions, self.numStates = len(self.actions), size * size\n",
    "        self.prob_of_tripping = [0.7, 0.1, 0.1, 0.1]               # 0.7 probability of going to where it chooses and 0.3 to go to differently\n",
    "        self.P = {s : {a : [] for a in range(self.numActions)} for s in range(self.numStates)}\n",
    "        self.transitionProb = np.zeros((self.numActions, self.numStates + 1, self.numStates + 1))\n",
    "        self.transitionReward = np.zeros((self.numStates + 1, self.numActions))\n",
    "        self.fill_transitions_probability()\n",
    "        self.dict_map_display={ 0:'_',          # normal land\n",
    "                                1:'X',          # river/wall\n",
    "                                2:'A',          # agent\n",
    "                                3:'T',          # trap\n",
    "                                4:'E',          # enemy\n",
    "                                5:'I'}          # intelligence\n",
    "                    \n",
    "    def env_gen(self):\n",
    "        land = np.zeros((self.size, self.size))\n",
    "        land[0,:] = 1                                               # establish the river\n",
    "        land[:,0] = 1\n",
    "        land[self.size-1,:] = 1\n",
    "        land[:,self.size-1] = 1\n",
    "        self.column_choice = np.random.choice((self.size//2-1, self.size//2+1)) # random choice whether stronghold starts from the left or right of the 'central' column\n",
    "        land[1:self.size-1, self.column_choice] = 1\n",
    "        if self.column_choice == self.size//2-1:                              # if stronghold is on left\n",
    "            #land[1, 0:self.column_choice] = 1                                # establish the walls of stronghold\n",
    "            #land[self.size-2, 0:self.column_choice] = 1\n",
    "            land[1:self.size-1, 0] = 1                                   \n",
    "            for col in land[1:self.size-1, self.column_choice+2:self.size-1].T:\n",
    "                traps = []\n",
    "                for i in range(int(np.round(1/4*len(col)))):        # make as many traps as 1/4 of the length of each column in the shore\n",
    "                    trap = np.random.choice(np.setdiff1d(range(len(col)), traps))\n",
    "                    col[trap] = 3\n",
    "                    traps.append(trap)\n",
    "            for col in land[1:self.size-1, 1:self.column_choice].T:\n",
    "                enemies = []\n",
    "                for i in range(int(np.round(1/5*len(col)))):        # populate enemies randomly inside the stronghold\n",
    "                    enemy = np.random.choice(np.setdiff1d(range(len(col)), enemies))\n",
    "                    col[enemy] = 4\n",
    "                    enemies.append(enemy)\n",
    "            intel_row = np.random.randint(1, len(land[1:self.size-1]))\n",
    "            intel_col = np.random.randint(1, len(land[1:self.column_choice-1]))\n",
    "            land[intel_row+1, intel_col] = 5\n",
    "            self.position_intel = [intel_row+1, intel_col]            # randomly insert intelligence into stronghold\n",
    "        else:                                                              # if stronghold is on right                          \n",
    "            #land[1, self.column_choice:self.size] = 1\n",
    "            #land[self.size-2, self.column_choice:self.size] = 1\n",
    "            land[1:self.size-1, self.size-1] = 1\n",
    "            for col in land[1:self.size-1, 1:self.column_choice-1].T:\n",
    "                traps = []\n",
    "                for i in range(int(np.round(1/4*len(col)))):        # make as many traps as 1/4 of the length of each column in the shore\n",
    "                    trap = np.random.choice(np.setdiff1d(range(len(col)), traps))\n",
    "                    col[trap] = 3\n",
    "                    traps.append(trap)\n",
    "            for col in land[1:self.size-1, self.column_choice+1:self.size-1].T:\n",
    "                enemies = []\n",
    "                for i in range(int(np.round(1/5*len(col)))):        # populate enemies randomly inside the stronghold\n",
    "                    enemy = np.random.choice(np.setdiff1d(range(len(col)), enemies))\n",
    "                    col[enemy] = 4\n",
    "                    enemies.append(enemy)\n",
    "            intel_row = np.random.randint(1, len(land[1:self.size-1]))              \n",
    "            intel_col = np.random.randint(1, len(land[self.column_choice+1:self.size-1]))\n",
    "            land[intel_row+1, self.column_choice+intel_col] = 5\n",
    "            self.position_intel = [intel_row+1, self.column_choice+intel_col]             # randomly insert intelligence into stronghold\n",
    "        entrances = []\n",
    "        for i in range(int(np.round(1/4*len(land[2:self.size-2, self.column_choice])))):        # make as many entrances as 1/4 of the length of the front wall \n",
    "            entrance = np.random.choice(np.setdiff1d(range(len(land[2:self.size-2, self.column_choice])), entrances))\n",
    "            land[2:self.size-2, self.column_choice][entrance] = 0\n",
    "            entrances.append(entrance)\n",
    "        return land\n",
    "\n",
    "    def to_state(self, row, col):\n",
    "            return row*self.size + col\n",
    "\n",
    "    # def to_position(self, state):\n",
    "    #         state\n",
    "    #         return row, col      \n",
    "        \n",
    "    def inc(self, row, col, a):\n",
    "        if a == 0:\n",
    "            row = max(row-1,0)\n",
    "        elif a == 1:\n",
    "            row = min(row+1, self.size-1)       \n",
    "        elif a == 2:\n",
    "            col = max(col-1,0)\n",
    "        elif a == 3:\n",
    "            col = min(col+1,self.size-1)\n",
    "        return (row, col)\n",
    "    \n",
    "    def fill_transitions_probability(self):\n",
    "        for row in range(self.size):\n",
    "            for col in range(self.size):\n",
    "                s = self.to_state(row, col)\n",
    "                for a in range(4):\n",
    "                    li = self.P[s][a]\n",
    "                    number = self.land[row, col]\n",
    "                    if number == 3: # trap\n",
    "                        li.append((1.0, s, 0, True))\n",
    "                        self.transitionProb[a, s, self.numStates] = 1.0\n",
    "                        self.transitionReward[s, a] = -1000\n",
    "                    elif number == 4: # enemy\n",
    "                        li.append((1.0, s, 0, True))\n",
    "                        self.transitionProb[a, s, self.numStates] = 1.0\n",
    "                        self.transitionReward[s, a] = 1000\n",
    "                    elif number == 5: # intelligence\n",
    "                        li.append((1.0, s, 0, True))\n",
    "                        self.transitionProb[a, s, self.numStates] = 1.0\n",
    "                        self.transitionReward[s, a] = 1000\n",
    "                    else:\n",
    "                        for b, p in zip([a, (a+1)%4, (a+2)%4, (a+3)%4], self.prob_of_tripping):\n",
    "                            newrow, newcol = self.inc(row, col, b)\n",
    "                            newstate = self.to_state(newrow, newcol)\n",
    "                            newnumber = self.land[newrow][newcol]\n",
    "                            done = False\n",
    "                            if newnumber == 2:                  # if hits wall\n",
    "                                rew = -2\n",
    "                            if newnumber == 3:                  # if enters trap\n",
    "                                rew = -1000\n",
    "                            elif newnumber == 4:                # if enemy kills\n",
    "                                rew = -1000\n",
    "                            elif newnumber == 5:                # if intelligence is caught\n",
    "                                rew = 1000\n",
    "                            else:\n",
    "                                rew = -1\n",
    "                            li.append((p, newstate, rew, done))\n",
    "                            self.transitionProb[a, s, newstate] += p\n",
    "                            self.transitionReward[s, a] = -1\n",
    "    \n",
    "    def getSuccessors(self, s, a): \n",
    "        # Take a state and an action as input, and return a list of pairs, where each pair (s', p) is a successor state s' with non-zero probability and p is the probability of transitioning to p.\n",
    "        idx = [0, 3, 1, 2]\n",
    "        next_states = np.nonzero(self.transitionProb[a, s, :])\n",
    "        probs = self.transitionProb[a, s, next_states]        \n",
    "        return [(s,p) for s,p in zip(next_states[0][idx], probs[0][idx])]  \n",
    "\n",
    "    def gettransitionProb(self, s, a, ns):\n",
    "        # Take a state, an action, a next state as input, and return the probability of the transition \n",
    "        return self.transitionProb[a, s, ns]\n",
    "\n",
    "    def getReward(self, s, a):\n",
    "        # Take a state and an action as input, and return the reward of that.\n",
    "        return self.transitionReward[s, a]\n",
    "\n",
    "    def getStateSpace(self):\n",
    "        return self.transitionProb.shape[1]\n",
    "    \n",
    "    def getActionSpace(self):\n",
    "        return self.transitionProb.shape[0]\n",
    "\n",
    "    def normal_shore(self, n_cells):\n",
    "        if self.column_choice == self.size//2-1:\n",
    "            empty_cells_coord = np.where(self.land[1:self.size-1, self.column_choice+1:self.size-1] == 0)\n",
    "            selected_indices = np.random.choice(np.arange(len(empty_cells_coord[0])), n_cells)\n",
    "            selected_coordinates = empty_cells_coord[0][selected_indices]+1, empty_cells_coord[1][selected_indices]+len(self.land[1][:self.column_choice+1])\n",
    "        if self.column_choice == self.size//2+1:\n",
    "            empty_cells_coord = np.where(self.land[1:self.size-1, 1:self.column_choice] == 0)\n",
    "            selected_indices = np.random.choice(np.arange(len(empty_cells_coord[0])), n_cells)\n",
    "            selected_coordinates = empty_cells_coord[0][selected_indices]+1, empty_cells_coord[1][selected_indices]+1\n",
    "        if n_cells == 1:\n",
    "            return np.asarray(selected_coordinates).reshape(2,)\n",
    "        return selected_coordinates\n",
    "\n",
    "    def step(self, action):\n",
    "        for i, j in zip(*np.where(self.land == 4)):     # enemies move randomly - they do not move if their choice is a wall, the intelligence, another enemy or the stronghold entrance column\n",
    "            move = np.random.choice(('up', 'down', 'left', 'right'))\n",
    "            if move == 'up' and self.land[i-1, j] != 1 and self.land[i-1, j] != 4 \\\n",
    "                and self.land[i-1, j] != 5:\n",
    "                self.land[i, j] = 0\n",
    "                self.land[i-1, j] = 4\n",
    "            if move == 'down' and self.land[i+1, j] != 1 and self.land[i+1, j] != 4 \\\n",
    "                and self.land[i+1, j] != 5:\n",
    "                self.land[i, j] = 0\n",
    "                self.land[i+1][j] = 4\n",
    "            if move == 'left' and self.land[i, j-1] != 1 and self.land[i, j-1] != 4 \\\n",
    "                and self.land[i, j-1] != 5 and j-1 != self.column_choice:\n",
    "                self.land[i, j] = 0\n",
    "                self.land[i, j-1] = 4\n",
    "            if move == 'right' and self.land[i, j+1] != 1 and self.land[i, j+1] != 4 \\\n",
    "                and self.land[i, j+1] != 5 and j+1 != self.column_choice:\n",
    "                self.land[i, j] = 0\n",
    "                self.land[i, j+1] = 4\n",
    "        \n",
    "        # need to add condition where they walk into a wall\n",
    "        # need to add time limit condition\n",
    "\n",
    "        current_position = np.array((self.position_agent[0], self.position_agent[1])) # saving the current position and state in case agent hits a wall\n",
    "        current_state = self.agent_state                                              \n",
    "        options = self.getSuccessors(self.agent_state, action)              # e.g. [(82, 0.7), (92, 0.1), (94, 0.1), (104, 0.1)] chosen action gets 0.7 prob\n",
    "        probs = [i[1] for i in a]                                           # [0.7, 0.1, 0.1, 0.1]\n",
    "        choice = np.random.choice((0, 1, 2, 3), p=probs)                    # make a probability choice\n",
    "        prob, state, reward, done = self.P[self.agent_state][action][choice]                 \n",
    "        self.agent_state = state                                                        # agent moves\n",
    "        if choice == 0:                                          # action is 'up', 'down', 'left', or 'right'\n",
    "            self.position_agent[0] -= 1\n",
    "        if choice == 1:\n",
    "            self.position_agent[0] += 1\n",
    "        if choice == 2:\n",
    "            self.position_agent[1] -= 1\n",
    "        if choice == 3:\n",
    "            self.position_agent[1] += 1\n",
    "        self.last_action = action\n",
    "        #observations = self.observations()                  \n",
    "        # self.render()                                         # update visualisation\n",
    "        return (int(state), reward, done, {\"prob\" : prob})      # return observations, reward, done, info\n",
    "\n",
    "    # def step(self, action):\n",
    "                          \n",
    "    #     if self.time_elapsed == self.time_limit:            # time-limit termination condition\n",
    "    #         done = True\n",
    "    #     else:\n",
    "    #         done = False\n",
    "    #         self.time_elapsed += 1              # update time\n",
    "    #         reward_step -= 1                    # negative reward per time-step\n",
    "        \n",
    "    #     return observations, reward, done\n",
    "\n",
    "    def reset(self):\n",
    "        self.time_elapsed = 0                                              # put time_elapsed to 0\n",
    "        self.position_agent = np.asarray(self.normal_shore(1))             # position of the agent is a random cell on the shore\n",
    "        self.agent_state = self.to_state(self.position_agent[0], self.position_agent[1])\n",
    "        observations = self.agent_state                                    # calculate observations i.e. current state\n",
    "        return observations\n",
    "\n",
    "    def render(self):                                                       # display\n",
    "        envir_with_agent = self.land.copy()\n",
    "        envir_with_agent[self.position_agent[0], self.position_agent[1]] = 2\n",
    "        \n",
    "        fig, ax = plt.subplots(figsize=(10, 10))\n",
    "        im = ax.imshow(envir_with_agent) \n",
    "\n",
    "        ax.set_xticks(np.arange(len(envir_with_agent)))\n",
    "        ax.set_yticks(np.arange(len(envir_with_agent)))\n",
    "        \n",
    "        for i in range(len(envir_with_agent)):                              # loop over data dimensions and create text annotations\n",
    "            for j in range(len(envir_with_agent)):\n",
    "                if envir_with_agent[i, j] == 0:\n",
    "                    text = \"\"\n",
    "                elif envir_with_agent[i, j] == 1:\n",
    "                    text = \"X\"\n",
    "                elif envir_with_agent[i, j] == 2:\n",
    "                    text = \"A\"\n",
    "                elif envir_with_agent[i, j] == 3:\n",
    "                    text = \"T\"\n",
    "                elif envir_with_agent[i, j] == 4:\n",
    "                    text = \"E\"\n",
    "                elif envir_with_agent[i, j] == 5:\n",
    "                    text = \"I\"\n",
    "                else:\n",
    "                    text = \"\"    \n",
    "                text_cell = ax.text(j, i, text, ha=\"center\", va=\"center\", color=\"r\", fontsize='xx-large')\n",
    "\n",
    "        ax.set_title(\"Stronghold\", fontsize=35)\n",
    "        fig.tight_layout()\n",
    "        plt.axis('off')\n",
    "        plt.show()"
   ]
  },
  {
   "source": [
    "stronghold = Stronghold(11)\n",
    "stronghold.reset()\n",
    "stronghold.render()"
   ],
   "cell_type": "code",
   "metadata": {},
   "execution_count": 103,
   "outputs": [
    {
     "output_type": "display_data",
     "data": {
      "text/plain": "<Figure size 720x720 with 1 Axes>",
      "image/svg+xml": "<?xml version=\"1.0\" encoding=\"utf-8\" standalone=\"no\"?>\r\n<!DOCTYPE svg PUBLIC \"-//W3C//DTD SVG 1.1//EN\"\r\n  \"http://www.w3.org/Graphics/SVG/1.1/DTD/svg11.dtd\">\r\n<!-- Created with matplotlib (https://matplotlib.org/) -->\r\n<svg height=\"695.673437pt\" version=\"1.1\" viewBox=\"0 0 661.8 695.673437\" width=\"661.8pt\" xmlns=\"http://www.w3.org/2000/svg\" xmlns:xlink=\"http://www.w3.org/1999/xlink\">\r\n <metadata>\r\n  <rdf:RDF xmlns:cc=\"http://creativecommons.org/ns#\" xmlns:dc=\"http://purl.org/dc/elements/1.1/\" xmlns:rdf=\"http://www.w3.org/1999/02/22-rdf-syntax-ns#\">\r\n   <cc:Work>\r\n    <dc:type rdf:resource=\"http://purl.org/dc/dcmitype/StillImage\"/>\r\n    <dc:date>2021-03-19T23:14:57.388126</dc:date>\r\n    <dc:format>image/svg+xml</dc:format>\r\n    <dc:creator>\r\n     <cc:Agent>\r\n      <dc:title>Matplotlib v3.3.3, https://matplotlib.org/</dc:title>\r\n     </cc:Agent>\r\n    </dc:creator>\r\n   </cc:Work>\r\n  </rdf:RDF>\r\n </metadata>\r\n <defs>\r\n  <style type=\"text/css\">*{stroke-linecap:butt;stroke-linejoin:round;}</style>\r\n </defs>\r\n <g id=\"figure_1\">\r\n  <g id=\"patch_1\">\r\n   <path d=\"M 0 695.673437 \r\nL 661.8 695.673437 \r\nL 661.8 0 \r\nL 0 0 \r\nz\r\n\" style=\"fill:none;\"/>\r\n  </g>\r\n  <g id=\"axes_1\">\r\n   <g clip-path=\"url(#p5f6a1b1a40)\">\r\n    <image height=\"648\" id=\"imagedc22442457\" transform=\"scale(1 -1)translate(0 -648)\" width=\"648\" x=\"7.2\" xlink:href=\"data:image/png;base64,\r\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\" y=\"-40.473437\"/>\r\n   </g>\r\n   <g id=\"text_1\">\r\n    <!-- X -->\r\n    <g style=\"fill:#ff0000;\" transform=\"translate(30.708873 75.26891)scale(0.1728 -0.1728)\">\r\n     <defs>\r\n      <path d=\"M 6.296875 72.90625 \r\nL 16.890625 72.90625 \r\nL 35.015625 45.796875 \r\nL 53.21875 72.90625 \r\nL 63.8125 72.90625 \r\nL 40.375 37.890625 \r\nL 65.375 0 \r\nL 54.78125 0 \r\nL 34.28125 31 \r\nL 13.625 0 \r\nL 2.984375 0 \r\nL 29 38.921875 \r\nz\r\n\" id=\"DejaVuSans-88\"/>\r\n     </defs>\r\n     <use xlink:href=\"#DejaVuSans-88\"/>\r\n    </g>\r\n   </g>\r\n   <g id=\"text_2\">\r\n    <!-- X -->\r\n    <g style=\"fill:#ff0000;\" transform=\"translate(89.563418 75.26891)scale(0.1728 -0.1728)\">\r\n     <use xlink:href=\"#DejaVuSans-88\"/>\r\n    </g>\r\n   </g>\r\n   <g id=\"text_3\">\r\n    <!-- X -->\r\n    <g style=\"fill:#ff0000;\" transform=\"translate(148.417964 75.26891)scale(0.1728 -0.1728)\">\r\n     <use xlink:href=\"#DejaVuSans-88\"/>\r\n    </g>\r\n   </g>\r\n   <g id=\"text_4\">\r\n    <!-- X -->\r\n    <g style=\"fill:#ff0000;\" transform=\"translate(207.272509 75.26891)scale(0.1728 -0.1728)\">\r\n     <use xlink:href=\"#DejaVuSans-88\"/>\r\n    </g>\r\n   </g>\r\n   <g id=\"text_5\">\r\n    <!-- X -->\r\n    <g style=\"fill:#ff0000;\" transform=\"translate(266.127055 75.26891)scale(0.1728 -0.1728)\">\r\n     <use xlink:href=\"#DejaVuSans-88\"/>\r\n    </g>\r\n   </g>\r\n   <g id=\"text_6\">\r\n    <!-- X -->\r\n    <g style=\"fill:#ff0000;\" transform=\"translate(324.9816 75.26891)scale(0.1728 -0.1728)\">\r\n     <use xlink:href=\"#DejaVuSans-88\"/>\r\n    </g>\r\n   </g>\r\n   <g id=\"text_7\">\r\n    <!-- X -->\r\n    <g style=\"fill:#ff0000;\" transform=\"translate(383.836145 75.26891)scale(0.1728 -0.1728)\">\r\n     <use xlink:href=\"#DejaVuSans-88\"/>\r\n    </g>\r\n   </g>\r\n   <g id=\"text_8\">\r\n    <!-- X -->\r\n    <g style=\"fill:#ff0000;\" transform=\"translate(442.690691 75.26891)scale(0.1728 -0.1728)\">\r\n     <use xlink:href=\"#DejaVuSans-88\"/>\r\n    </g>\r\n   </g>\r\n   <g id=\"text_9\">\r\n    <!-- X -->\r\n    <g style=\"fill:#ff0000;\" transform=\"translate(501.545236 75.26891)scale(0.1728 -0.1728)\">\r\n     <use xlink:href=\"#DejaVuSans-88\"/>\r\n    </g>\r\n   </g>\r\n   <g id=\"text_10\">\r\n    <!-- X -->\r\n    <g style=\"fill:#ff0000;\" transform=\"translate(560.399782 75.26891)scale(0.1728 -0.1728)\">\r\n     <use xlink:href=\"#DejaVuSans-88\"/>\r\n    </g>\r\n   </g>\r\n   <g id=\"text_11\">\r\n    <!-- X -->\r\n    <g style=\"fill:#ff0000;\" transform=\"translate(619.254327 75.26891)scale(0.1728 -0.1728)\">\r\n     <use xlink:href=\"#DejaVuSans-88\"/>\r\n    </g>\r\n   </g>\r\n   <g id=\"text_12\">\r\n    <!-- X -->\r\n    <g style=\"fill:#ff0000;\" transform=\"translate(30.708873 134.123456)scale(0.1728 -0.1728)\">\r\n     <use xlink:href=\"#DejaVuSans-88\"/>\r\n    </g>\r\n   </g>\r\n   <g id=\"text_13\">\r\n    <!-- X -->\r\n    <g style=\"fill:#ff0000;\" transform=\"translate(383.836145 134.123456)scale(0.1728 -0.1728)\">\r\n     <use xlink:href=\"#DejaVuSans-88\"/>\r\n    </g>\r\n   </g>\r\n   <g id=\"text_14\">\r\n    <!-- E -->\r\n    <g style=\"fill:#ff0000;\" transform=\"translate(443.149691 134.123456)scale(0.1728 -0.1728)\">\r\n     <defs>\r\n      <path d=\"M 9.8125 72.90625 \r\nL 55.90625 72.90625 \r\nL 55.90625 64.59375 \r\nL 19.671875 64.59375 \r\nL 19.671875 43.015625 \r\nL 54.390625 43.015625 \r\nL 54.390625 34.71875 \r\nL 19.671875 34.71875 \r\nL 19.671875 8.296875 \r\nL 56.78125 8.296875 \r\nL 56.78125 0 \r\nL 9.8125 0 \r\nz\r\n\" id=\"DejaVuSans-69\"/>\r\n     </defs>\r\n     <use xlink:href=\"#DejaVuSans-69\"/>\r\n    </g>\r\n   </g>\r\n   <g id=\"text_15\">\r\n    <!-- X -->\r\n    <g style=\"fill:#ff0000;\" transform=\"translate(619.254327 134.123456)scale(0.1728 -0.1728)\">\r\n     <use xlink:href=\"#DejaVuSans-88\"/>\r\n    </g>\r\n   </g>\r\n   <g id=\"text_16\">\r\n    <!-- X -->\r\n    <g style=\"fill:#ff0000;\" transform=\"translate(30.708873 192.978001)scale(0.1728 -0.1728)\">\r\n     <use xlink:href=\"#DejaVuSans-88\"/>\r\n    </g>\r\n   </g>\r\n   <g id=\"text_17\">\r\n    <!-- T -->\r\n    <g style=\"fill:#ff0000;\" transform=\"translate(207.913759 192.978001)scale(0.1728 -0.1728)\">\r\n     <defs>\r\n      <path d=\"M -0.296875 72.90625 \r\nL 61.375 72.90625 \r\nL 61.375 64.59375 \r\nL 35.5 64.59375 \r\nL 35.5 0 \r\nL 25.59375 0 \r\nL 25.59375 64.59375 \r\nL -0.296875 64.59375 \r\nz\r\n\" id=\"DejaVuSans-84\"/>\r\n     </defs>\r\n     <use xlink:href=\"#DejaVuSans-84\"/>\r\n    </g>\r\n   </g>\r\n   <g id=\"text_18\">\r\n    <!-- T -->\r\n    <g style=\"fill:#ff0000;\" transform=\"translate(266.768305 192.978001)scale(0.1728 -0.1728)\">\r\n     <use xlink:href=\"#DejaVuSans-84\"/>\r\n    </g>\r\n   </g>\r\n   <g id=\"text_19\">\r\n    <!-- I -->\r\n    <g style=\"fill:#ff0000;\" transform=\"translate(504.914836 192.978001)scale(0.1728 -0.1728)\">\r\n     <defs>\r\n      <path d=\"M 9.8125 72.90625 \r\nL 19.671875 72.90625 \r\nL 19.671875 0 \r\nL 9.8125 0 \r\nz\r\n\" id=\"DejaVuSans-73\"/>\r\n     </defs>\r\n     <use xlink:href=\"#DejaVuSans-73\"/>\r\n    </g>\r\n   </g>\r\n   <g id=\"text_20\">\r\n    <!-- E -->\r\n    <g style=\"fill:#ff0000;\" transform=\"translate(560.858782 192.978001)scale(0.1728 -0.1728)\">\r\n     <use xlink:href=\"#DejaVuSans-69\"/>\r\n    </g>\r\n   </g>\r\n   <g id=\"text_21\">\r\n    <!-- X -->\r\n    <g style=\"fill:#ff0000;\" transform=\"translate(619.254327 192.978001)scale(0.1728 -0.1728)\">\r\n     <use xlink:href=\"#DejaVuSans-88\"/>\r\n    </g>\r\n   </g>\r\n   <g id=\"text_22\">\r\n    <!-- X -->\r\n    <g style=\"fill:#ff0000;\" transform=\"translate(30.708873 251.832547)scale(0.1728 -0.1728)\">\r\n     <use xlink:href=\"#DejaVuSans-88\"/>\r\n    </g>\r\n   </g>\r\n   <g id=\"text_23\">\r\n    <!-- X -->\r\n    <g style=\"fill:#ff0000;\" transform=\"translate(383.836145 251.832547)scale(0.1728 -0.1728)\">\r\n     <use xlink:href=\"#DejaVuSans-88\"/>\r\n    </g>\r\n   </g>\r\n   <g id=\"text_24\">\r\n    <!-- E -->\r\n    <g style=\"fill:#ff0000;\" transform=\"translate(502.004236 251.832547)scale(0.1728 -0.1728)\">\r\n     <use xlink:href=\"#DejaVuSans-69\"/>\r\n    </g>\r\n   </g>\r\n   <g id=\"text_25\">\r\n    <!-- X -->\r\n    <g style=\"fill:#ff0000;\" transform=\"translate(619.254327 251.832547)scale(0.1728 -0.1728)\">\r\n     <use xlink:href=\"#DejaVuSans-88\"/>\r\n    </g>\r\n   </g>\r\n   <g id=\"text_26\">\r\n    <!-- X -->\r\n    <g style=\"fill:#ff0000;\" transform=\"translate(30.708873 310.687092)scale(0.1728 -0.1728)\">\r\n     <use xlink:href=\"#DejaVuSans-88\"/>\r\n    </g>\r\n   </g>\r\n   <g id=\"text_27\">\r\n    <!-- A -->\r\n    <g style=\"fill:#ff0000;\" transform=\"translate(324.9897 310.687092)scale(0.1728 -0.1728)\">\r\n     <defs>\r\n      <path d=\"M 34.1875 63.1875 \r\nL 20.796875 26.90625 \r\nL 47.609375 26.90625 \r\nz\r\nM 28.609375 72.90625 \r\nL 39.796875 72.90625 \r\nL 67.578125 0 \r\nL 57.328125 0 \r\nL 50.6875 18.703125 \r\nL 17.828125 18.703125 \r\nL 11.1875 0 \r\nL 0.78125 0 \r\nz\r\n\" id=\"DejaVuSans-65\"/>\r\n     </defs>\r\n     <use xlink:href=\"#DejaVuSans-65\"/>\r\n    </g>\r\n   </g>\r\n   <g id=\"text_28\">\r\n    <!-- E -->\r\n    <g style=\"fill:#ff0000;\" transform=\"translate(443.149691 310.687092)scale(0.1728 -0.1728)\">\r\n     <use xlink:href=\"#DejaVuSans-69\"/>\r\n    </g>\r\n   </g>\r\n   <g id=\"text_29\">\r\n    <!-- X -->\r\n    <g style=\"fill:#ff0000;\" transform=\"translate(619.254327 310.687092)scale(0.1728 -0.1728)\">\r\n     <use xlink:href=\"#DejaVuSans-88\"/>\r\n    </g>\r\n   </g>\r\n   <g id=\"text_30\">\r\n    <!-- X -->\r\n    <g style=\"fill:#ff0000;\" transform=\"translate(30.708873 369.541637)scale(0.1728 -0.1728)\">\r\n     <use xlink:href=\"#DejaVuSans-88\"/>\r\n    </g>\r\n   </g>\r\n   <g id=\"text_31\">\r\n    <!-- T -->\r\n    <g style=\"fill:#ff0000;\" transform=\"translate(207.913759 369.541637)scale(0.1728 -0.1728)\">\r\n     <use xlink:href=\"#DejaVuSans-84\"/>\r\n    </g>\r\n   </g>\r\n   <g id=\"text_32\">\r\n    <!-- X -->\r\n    <g style=\"fill:#ff0000;\" transform=\"translate(383.836145 369.541637)scale(0.1728 -0.1728)\">\r\n     <use xlink:href=\"#DejaVuSans-88\"/>\r\n    </g>\r\n   </g>\r\n   <g id=\"text_33\">\r\n    <!-- X -->\r\n    <g style=\"fill:#ff0000;\" transform=\"translate(619.254327 369.541637)scale(0.1728 -0.1728)\">\r\n     <use xlink:href=\"#DejaVuSans-88\"/>\r\n    </g>\r\n   </g>\r\n   <g id=\"text_34\">\r\n    <!-- X -->\r\n    <g style=\"fill:#ff0000;\" transform=\"translate(30.708873 428.396183)scale(0.1728 -0.1728)\">\r\n     <use xlink:href=\"#DejaVuSans-88\"/>\r\n    </g>\r\n   </g>\r\n   <g id=\"text_35\">\r\n    <!-- T -->\r\n    <g style=\"fill:#ff0000;\" transform=\"translate(149.059214 428.396183)scale(0.1728 -0.1728)\">\r\n     <use xlink:href=\"#DejaVuSans-84\"/>\r\n    </g>\r\n   </g>\r\n   <g id=\"text_36\">\r\n    <!-- X -->\r\n    <g style=\"fill:#ff0000;\" transform=\"translate(383.836145 428.396183)scale(0.1728 -0.1728)\">\r\n     <use xlink:href=\"#DejaVuSans-88\"/>\r\n    </g>\r\n   </g>\r\n   <g id=\"text_37\">\r\n    <!-- X -->\r\n    <g style=\"fill:#ff0000;\" transform=\"translate(619.254327 428.396183)scale(0.1728 -0.1728)\">\r\n     <use xlink:href=\"#DejaVuSans-88\"/>\r\n    </g>\r\n   </g>\r\n   <g id=\"text_38\">\r\n    <!-- X -->\r\n    <g style=\"fill:#ff0000;\" transform=\"translate(30.708873 487.250728)scale(0.1728 -0.1728)\">\r\n     <use xlink:href=\"#DejaVuSans-88\"/>\r\n    </g>\r\n   </g>\r\n   <g id=\"text_39\">\r\n    <!-- T -->\r\n    <g style=\"fill:#ff0000;\" transform=\"translate(90.204668 487.250728)scale(0.1728 -0.1728)\">\r\n     <use xlink:href=\"#DejaVuSans-84\"/>\r\n    </g>\r\n   </g>\r\n   <g id=\"text_40\">\r\n    <!-- X -->\r\n    <g style=\"fill:#ff0000;\" transform=\"translate(383.836145 487.250728)scale(0.1728 -0.1728)\">\r\n     <use xlink:href=\"#DejaVuSans-88\"/>\r\n    </g>\r\n   </g>\r\n   <g id=\"text_41\">\r\n    <!-- E -->\r\n    <g style=\"fill:#ff0000;\" transform=\"translate(502.004236 487.250728)scale(0.1728 -0.1728)\">\r\n     <use xlink:href=\"#DejaVuSans-69\"/>\r\n    </g>\r\n   </g>\r\n   <g id=\"text_42\">\r\n    <!-- E -->\r\n    <g style=\"fill:#ff0000;\" transform=\"translate(560.858782 487.250728)scale(0.1728 -0.1728)\">\r\n     <use xlink:href=\"#DejaVuSans-69\"/>\r\n    </g>\r\n   </g>\r\n   <g id=\"text_43\">\r\n    <!-- X -->\r\n    <g style=\"fill:#ff0000;\" transform=\"translate(619.254327 487.250728)scale(0.1728 -0.1728)\">\r\n     <use xlink:href=\"#DejaVuSans-88\"/>\r\n    </g>\r\n   </g>\r\n   <g id=\"text_44\">\r\n    <!-- X -->\r\n    <g style=\"fill:#ff0000;\" transform=\"translate(30.708873 546.105274)scale(0.1728 -0.1728)\">\r\n     <use xlink:href=\"#DejaVuSans-88\"/>\r\n    </g>\r\n   </g>\r\n   <g id=\"text_45\">\r\n    <!-- T -->\r\n    <g style=\"fill:#ff0000;\" transform=\"translate(149.059214 546.105274)scale(0.1728 -0.1728)\">\r\n     <use xlink:href=\"#DejaVuSans-84\"/>\r\n    </g>\r\n   </g>\r\n   <g id=\"text_46\">\r\n    <!-- T -->\r\n    <g style=\"fill:#ff0000;\" transform=\"translate(266.768305 546.105274)scale(0.1728 -0.1728)\">\r\n     <use xlink:href=\"#DejaVuSans-84\"/>\r\n    </g>\r\n   </g>\r\n   <g id=\"text_47\">\r\n    <!-- X -->\r\n    <g style=\"fill:#ff0000;\" transform=\"translate(383.836145 546.105274)scale(0.1728 -0.1728)\">\r\n     <use xlink:href=\"#DejaVuSans-88\"/>\r\n    </g>\r\n   </g>\r\n   <g id=\"text_48\">\r\n    <!-- X -->\r\n    <g style=\"fill:#ff0000;\" transform=\"translate(619.254327 546.105274)scale(0.1728 -0.1728)\">\r\n     <use xlink:href=\"#DejaVuSans-88\"/>\r\n    </g>\r\n   </g>\r\n   <g id=\"text_49\">\r\n    <!-- X -->\r\n    <g style=\"fill:#ff0000;\" transform=\"translate(30.708873 604.959819)scale(0.1728 -0.1728)\">\r\n     <use xlink:href=\"#DejaVuSans-88\"/>\r\n    </g>\r\n   </g>\r\n   <g id=\"text_50\">\r\n    <!-- T -->\r\n    <g style=\"fill:#ff0000;\" transform=\"translate(90.204668 604.959819)scale(0.1728 -0.1728)\">\r\n     <use xlink:href=\"#DejaVuSans-84\"/>\r\n    </g>\r\n   </g>\r\n   <g id=\"text_51\">\r\n    <!-- X -->\r\n    <g style=\"fill:#ff0000;\" transform=\"translate(383.836145 604.959819)scale(0.1728 -0.1728)\">\r\n     <use xlink:href=\"#DejaVuSans-88\"/>\r\n    </g>\r\n   </g>\r\n   <g id=\"text_52\">\r\n    <!-- X -->\r\n    <g style=\"fill:#ff0000;\" transform=\"translate(619.254327 604.959819)scale(0.1728 -0.1728)\">\r\n     <use xlink:href=\"#DejaVuSans-88\"/>\r\n    </g>\r\n   </g>\r\n   <g id=\"text_53\">\r\n    <!-- X -->\r\n    <g style=\"fill:#ff0000;\" transform=\"translate(30.708873 663.814365)scale(0.1728 -0.1728)\">\r\n     <use xlink:href=\"#DejaVuSans-88\"/>\r\n    </g>\r\n   </g>\r\n   <g id=\"text_54\">\r\n    <!-- X -->\r\n    <g style=\"fill:#ff0000;\" transform=\"translate(89.563418 663.814365)scale(0.1728 -0.1728)\">\r\n     <use xlink:href=\"#DejaVuSans-88\"/>\r\n    </g>\r\n   </g>\r\n   <g id=\"text_55\">\r\n    <!-- X -->\r\n    <g style=\"fill:#ff0000;\" transform=\"translate(148.417964 663.814365)scale(0.1728 -0.1728)\">\r\n     <use xlink:href=\"#DejaVuSans-88\"/>\r\n    </g>\r\n   </g>\r\n   <g id=\"text_56\">\r\n    <!-- X -->\r\n    <g style=\"fill:#ff0000;\" transform=\"translate(207.272509 663.814365)scale(0.1728 -0.1728)\">\r\n     <use xlink:href=\"#DejaVuSans-88\"/>\r\n    </g>\r\n   </g>\r\n   <g id=\"text_57\">\r\n    <!-- X -->\r\n    <g style=\"fill:#ff0000;\" transform=\"translate(266.127055 663.814365)scale(0.1728 -0.1728)\">\r\n     <use xlink:href=\"#DejaVuSans-88\"/>\r\n    </g>\r\n   </g>\r\n   <g id=\"text_58\">\r\n    <!-- X -->\r\n    <g style=\"fill:#ff0000;\" transform=\"translate(324.9816 663.814365)scale(0.1728 -0.1728)\">\r\n     <use xlink:href=\"#DejaVuSans-88\"/>\r\n    </g>\r\n   </g>\r\n   <g id=\"text_59\">\r\n    <!-- X -->\r\n    <g style=\"fill:#ff0000;\" transform=\"translate(383.836145 663.814365)scale(0.1728 -0.1728)\">\r\n     <use xlink:href=\"#DejaVuSans-88\"/>\r\n    </g>\r\n   </g>\r\n   <g id=\"text_60\">\r\n    <!-- X -->\r\n    <g style=\"fill:#ff0000;\" transform=\"translate(442.690691 663.814365)scale(0.1728 -0.1728)\">\r\n     <use xlink:href=\"#DejaVuSans-88\"/>\r\n    </g>\r\n   </g>\r\n   <g id=\"text_61\">\r\n    <!-- X -->\r\n    <g style=\"fill:#ff0000;\" transform=\"translate(501.545236 663.814365)scale(0.1728 -0.1728)\">\r\n     <use xlink:href=\"#DejaVuSans-88\"/>\r\n    </g>\r\n   </g>\r\n   <g id=\"text_62\">\r\n    <!-- X -->\r\n    <g style=\"fill:#ff0000;\" transform=\"translate(560.399782 663.814365)scale(0.1728 -0.1728)\">\r\n     <use xlink:href=\"#DejaVuSans-88\"/>\r\n    </g>\r\n   </g>\r\n   <g id=\"text_63\">\r\n    <!-- X -->\r\n    <g style=\"fill:#ff0000;\" transform=\"translate(619.254327 663.814365)scale(0.1728 -0.1728)\">\r\n     <use xlink:href=\"#DejaVuSans-88\"/>\r\n    </g>\r\n   </g>\r\n   <g id=\"text_64\">\r\n    <!-- Stronghold -->\r\n    <g transform=\"translate(235.451172 33.794531)scale(0.35 -0.35)\">\r\n     <defs>\r\n      <path d=\"M 53.515625 70.515625 \r\nL 53.515625 60.890625 \r\nQ 47.90625 63.578125 42.921875 64.890625 \r\nQ 37.9375 66.21875 33.296875 66.21875 \r\nQ 25.25 66.21875 20.875 63.09375 \r\nQ 16.5 59.96875 16.5 54.203125 \r\nQ 16.5 49.359375 19.40625 46.890625 \r\nQ 22.3125 44.4375 30.421875 42.921875 \r\nL 36.375 41.703125 \r\nQ 47.40625 39.59375 52.65625 34.296875 \r\nQ 57.90625 29 57.90625 20.125 \r\nQ 57.90625 9.515625 50.796875 4.046875 \r\nQ 43.703125 -1.421875 29.984375 -1.421875 \r\nQ 24.8125 -1.421875 18.96875 -0.25 \r\nQ 13.140625 0.921875 6.890625 3.21875 \r\nL 6.890625 13.375 \r\nQ 12.890625 10.015625 18.65625 8.296875 \r\nQ 24.421875 6.59375 29.984375 6.59375 \r\nQ 38.421875 6.59375 43.015625 9.90625 \r\nQ 47.609375 13.234375 47.609375 19.390625 \r\nQ 47.609375 24.75 44.3125 27.78125 \r\nQ 41.015625 30.8125 33.5 32.328125 \r\nL 27.484375 33.5 \r\nQ 16.453125 35.6875 11.515625 40.375 \r\nQ 6.59375 45.0625 6.59375 53.421875 \r\nQ 6.59375 63.09375 13.40625 68.65625 \r\nQ 20.21875 74.21875 32.171875 74.21875 \r\nQ 37.3125 74.21875 42.625 73.28125 \r\nQ 47.953125 72.359375 53.515625 70.515625 \r\nz\r\n\" id=\"DejaVuSans-83\"/>\r\n      <path d=\"M 18.3125 70.21875 \r\nL 18.3125 54.6875 \r\nL 36.8125 54.6875 \r\nL 36.8125 47.703125 \r\nL 18.3125 47.703125 \r\nL 18.3125 18.015625 \r\nQ 18.3125 11.328125 20.140625 9.421875 \r\nQ 21.96875 7.515625 27.59375 7.515625 \r\nL 36.8125 7.515625 \r\nL 36.8125 0 \r\nL 27.59375 0 \r\nQ 17.1875 0 13.234375 3.875 \r\nQ 9.28125 7.765625 9.28125 18.015625 \r\nL 9.28125 47.703125 \r\nL 2.6875 47.703125 \r\nL 2.6875 54.6875 \r\nL 9.28125 54.6875 \r\nL 9.28125 70.21875 \r\nz\r\n\" id=\"DejaVuSans-116\"/>\r\n      <path d=\"M 41.109375 46.296875 \r\nQ 39.59375 47.171875 37.8125 47.578125 \r\nQ 36.03125 48 33.890625 48 \r\nQ 26.265625 48 22.1875 43.046875 \r\nQ 18.109375 38.09375 18.109375 28.8125 \r\nL 18.109375 0 \r\nL 9.078125 0 \r\nL 9.078125 54.6875 \r\nL 18.109375 54.6875 \r\nL 18.109375 46.1875 \r\nQ 20.953125 51.171875 25.484375 53.578125 \r\nQ 30.03125 56 36.53125 56 \r\nQ 37.453125 56 38.578125 55.875 \r\nQ 39.703125 55.765625 41.0625 55.515625 \r\nz\r\n\" id=\"DejaVuSans-114\"/>\r\n      <path d=\"M 30.609375 48.390625 \r\nQ 23.390625 48.390625 19.1875 42.75 \r\nQ 14.984375 37.109375 14.984375 27.296875 \r\nQ 14.984375 17.484375 19.15625 11.84375 \r\nQ 23.34375 6.203125 30.609375 6.203125 \r\nQ 37.796875 6.203125 41.984375 11.859375 \r\nQ 46.1875 17.53125 46.1875 27.296875 \r\nQ 46.1875 37.015625 41.984375 42.703125 \r\nQ 37.796875 48.390625 30.609375 48.390625 \r\nz\r\nM 30.609375 56 \r\nQ 42.328125 56 49.015625 48.375 \r\nQ 55.71875 40.765625 55.71875 27.296875 \r\nQ 55.71875 13.875 49.015625 6.21875 \r\nQ 42.328125 -1.421875 30.609375 -1.421875 \r\nQ 18.84375 -1.421875 12.171875 6.21875 \r\nQ 5.515625 13.875 5.515625 27.296875 \r\nQ 5.515625 40.765625 12.171875 48.375 \r\nQ 18.84375 56 30.609375 56 \r\nz\r\n\" id=\"DejaVuSans-111\"/>\r\n      <path d=\"M 54.890625 33.015625 \r\nL 54.890625 0 \r\nL 45.90625 0 \r\nL 45.90625 32.71875 \r\nQ 45.90625 40.484375 42.875 44.328125 \r\nQ 39.84375 48.1875 33.796875 48.1875 \r\nQ 26.515625 48.1875 22.3125 43.546875 \r\nQ 18.109375 38.921875 18.109375 30.90625 \r\nL 18.109375 0 \r\nL 9.078125 0 \r\nL 9.078125 54.6875 \r\nL 18.109375 54.6875 \r\nL 18.109375 46.1875 \r\nQ 21.34375 51.125 25.703125 53.5625 \r\nQ 30.078125 56 35.796875 56 \r\nQ 45.21875 56 50.046875 50.171875 \r\nQ 54.890625 44.34375 54.890625 33.015625 \r\nz\r\n\" id=\"DejaVuSans-110\"/>\r\n      <path d=\"M 45.40625 27.984375 \r\nQ 45.40625 37.75 41.375 43.109375 \r\nQ 37.359375 48.484375 30.078125 48.484375 \r\nQ 22.859375 48.484375 18.828125 43.109375 \r\nQ 14.796875 37.75 14.796875 27.984375 \r\nQ 14.796875 18.265625 18.828125 12.890625 \r\nQ 22.859375 7.515625 30.078125 7.515625 \r\nQ 37.359375 7.515625 41.375 12.890625 \r\nQ 45.40625 18.265625 45.40625 27.984375 \r\nz\r\nM 54.390625 6.78125 \r\nQ 54.390625 -7.171875 48.1875 -13.984375 \r\nQ 42 -20.796875 29.203125 -20.796875 \r\nQ 24.46875 -20.796875 20.265625 -20.09375 \r\nQ 16.0625 -19.390625 12.109375 -17.921875 \r\nL 12.109375 -9.1875 \r\nQ 16.0625 -11.328125 19.921875 -12.34375 \r\nQ 23.78125 -13.375 27.78125 -13.375 \r\nQ 36.625 -13.375 41.015625 -8.765625 \r\nQ 45.40625 -4.15625 45.40625 5.171875 \r\nL 45.40625 9.625 \r\nQ 42.625 4.78125 38.28125 2.390625 \r\nQ 33.9375 0 27.875 0 \r\nQ 17.828125 0 11.671875 7.65625 \r\nQ 5.515625 15.328125 5.515625 27.984375 \r\nQ 5.515625 40.671875 11.671875 48.328125 \r\nQ 17.828125 56 27.875 56 \r\nQ 33.9375 56 38.28125 53.609375 \r\nQ 42.625 51.21875 45.40625 46.390625 \r\nL 45.40625 54.6875 \r\nL 54.390625 54.6875 \r\nz\r\n\" id=\"DejaVuSans-103\"/>\r\n      <path d=\"M 54.890625 33.015625 \r\nL 54.890625 0 \r\nL 45.90625 0 \r\nL 45.90625 32.71875 \r\nQ 45.90625 40.484375 42.875 44.328125 \r\nQ 39.84375 48.1875 33.796875 48.1875 \r\nQ 26.515625 48.1875 22.3125 43.546875 \r\nQ 18.109375 38.921875 18.109375 30.90625 \r\nL 18.109375 0 \r\nL 9.078125 0 \r\nL 9.078125 75.984375 \r\nL 18.109375 75.984375 \r\nL 18.109375 46.1875 \r\nQ 21.34375 51.125 25.703125 53.5625 \r\nQ 30.078125 56 35.796875 56 \r\nQ 45.21875 56 50.046875 50.171875 \r\nQ 54.890625 44.34375 54.890625 33.015625 \r\nz\r\n\" id=\"DejaVuSans-104\"/>\r\n      <path d=\"M 9.421875 75.984375 \r\nL 18.40625 75.984375 \r\nL 18.40625 0 \r\nL 9.421875 0 \r\nz\r\n\" id=\"DejaVuSans-108\"/>\r\n      <path d=\"M 45.40625 46.390625 \r\nL 45.40625 75.984375 \r\nL 54.390625 75.984375 \r\nL 54.390625 0 \r\nL 45.40625 0 \r\nL 45.40625 8.203125 \r\nQ 42.578125 3.328125 38.25 0.953125 \r\nQ 33.9375 -1.421875 27.875 -1.421875 \r\nQ 17.96875 -1.421875 11.734375 6.484375 \r\nQ 5.515625 14.40625 5.515625 27.296875 \r\nQ 5.515625 40.1875 11.734375 48.09375 \r\nQ 17.96875 56 27.875 56 \r\nQ 33.9375 56 38.25 53.625 \r\nQ 42.578125 51.265625 45.40625 46.390625 \r\nz\r\nM 14.796875 27.296875 \r\nQ 14.796875 17.390625 18.875 11.75 \r\nQ 22.953125 6.109375 30.078125 6.109375 \r\nQ 37.203125 6.109375 41.296875 11.75 \r\nQ 45.40625 17.390625 45.40625 27.296875 \r\nQ 45.40625 37.203125 41.296875 42.84375 \r\nQ 37.203125 48.484375 30.078125 48.484375 \r\nQ 22.953125 48.484375 18.875 42.84375 \r\nQ 14.796875 37.203125 14.796875 27.296875 \r\nz\r\n\" id=\"DejaVuSans-100\"/>\r\n     </defs>\r\n     <use xlink:href=\"#DejaVuSans-83\"/>\r\n     <use x=\"63.476562\" xlink:href=\"#DejaVuSans-116\"/>\r\n     <use x=\"102.685547\" xlink:href=\"#DejaVuSans-114\"/>\r\n     <use x=\"141.548828\" xlink:href=\"#DejaVuSans-111\"/>\r\n     <use x=\"202.730469\" xlink:href=\"#DejaVuSans-110\"/>\r\n     <use x=\"266.109375\" xlink:href=\"#DejaVuSans-103\"/>\r\n     <use x=\"329.585938\" xlink:href=\"#DejaVuSans-104\"/>\r\n     <use x=\"392.964844\" xlink:href=\"#DejaVuSans-111\"/>\r\n     <use x=\"454.146484\" xlink:href=\"#DejaVuSans-108\"/>\r\n     <use x=\"481.929688\" xlink:href=\"#DejaVuSans-100\"/>\r\n    </g>\r\n   </g>\r\n  </g>\r\n </g>\r\n <defs>\r\n  <clipPath id=\"p5f6a1b1a40\">\r\n   <rect height=\"647.4\" width=\"647.4\" x=\"7.2\" y=\"41.073437\"/>\r\n  </clipPath>\r\n </defs>\r\n</svg>\r\n",
      "image/png": "[encoded data removed]"
     },
     "metadata": {
      "needs_background": "light"
     }
    }
   ]
  },
  {
   "cell_type": "code",
   "execution_count": 105,
   "metadata": {},
   "outputs": [
    {
     "output_type": "execute_result",
     "data": {
      "text/plain": [
       "[(38, 0.7), (60, 0.1), (48, 0.1), (50, 0.1)]"
      ]
     },
     "metadata": {},
     "execution_count": 105
    }
   ],
   "source": [
    "stronghold.getSuccessors(stronghold.agent_state, 0)"
   ]
  },
  {
   "cell_type": "code",
   "execution_count": 106,
   "metadata": {},
   "outputs": [
    {
     "output_type": "stream",
     "name": "stdout",
     "text": [
      "0\n"
     ]
    }
   ],
   "source": [
    "a = [(38, 0.7), (60, 0.1), (48, 0.1), (50, 0.1)]\n",
    "probs = [i[1] for i in a]                                          #     [0.1, 0.1, 0.1, 0.7]\n",
    "choice = np.random.choice((0, 1, 2, 3), p=probs)\n",
    "print(choice)"
   ]
  },
  {
   "cell_type": "code",
   "execution_count": 107,
   "metadata": {},
   "outputs": [
    {
     "output_type": "execute_result",
     "data": {
      "text/plain": [
       "(0.7, 38, -1, False)"
      ]
     },
     "metadata": {},
     "execution_count": 107
    }
   ],
   "source": [
    "stronghold.P[stronghold.agent_state][0][0]"
   ]
  },
  {
   "cell_type": "code",
   "execution_count": 25,
   "metadata": {},
   "outputs": [
    {
     "output_type": "execute_result",
     "data": {
      "text/plain": [
       "array([[1., 1., 1., 1., 1., 1., 1., 1., 1., 1., 1.],\n",
       "       [1., 0., 0., 3., 0., 0., 1., 0., 0., 0., 1.],\n",
       "       [1., 0., 0., 0., 3., 0., 0., 0., 0., 0., 1.],\n",
       "       [1., 0., 0., 0., 0., 0., 1., 4., 4., 0., 1.],\n",
       "       [1., 3., 3., 0., 0., 0., 1., 0., 5., 0., 1.],\n",
       "       [1., 0., 0., 0., 0., 0., 1., 0., 0., 0., 1.],\n",
       "       [1., 3., 0., 3., 0., 0., 1., 0., 0., 0., 1.],\n",
       "       [1., 0., 0., 0., 0., 0., 0., 0., 0., 4., 1.],\n",
       "       [1., 0., 3., 0., 0., 0., 1., 0., 0., 0., 1.],\n",
       "       [1., 0., 0., 0., 3., 0., 1., 0., 0., 0., 1.],\n",
       "       [1., 1., 1., 1., 1., 1., 1., 1., 1., 1., 1.]])"
      ]
     },
     "metadata": {},
     "execution_count": 25
    }
   ],
   "source": [
    "stronghold.land"
   ]
  },
  {
   "cell_type": "code",
   "execution_count": 11,
   "metadata": {},
   "outputs": [
    {
     "output_type": "execute_result",
     "data": {
      "text/plain": [
       "68"
      ]
     },
     "metadata": {},
     "execution_count": 11
    }
   ],
   "source": [
    "stronghold.agent_state"
   ]
  },
  {
   "cell_type": "code",
   "execution_count": 74,
   "metadata": {},
   "outputs": [
    {
     "output_type": "execute_result",
     "data": {
      "text/plain": [
       "1.0"
      ]
     },
     "metadata": {},
     "execution_count": 74
    }
   ],
   "source": [
    "stronghold.land[1,1]"
   ]
  },
  {
   "cell_type": "code",
   "execution_count": 75,
   "metadata": {},
   "outputs": [
    {
     "output_type": "execute_result",
     "data": {
      "text/plain": [
       "[(0.7, 60, -1, False),\n",
       " (0.1, 48, -1, False),\n",
       " (0.1, 70, -1, False),\n",
       " (0.1, 58, -1, False)]"
      ]
     },
     "metadata": {},
     "execution_count": 75
    }
   ],
   "source": [
    "stronghold.P[59][3]"
   ]
  },
  {
   "cell_type": "code",
   "execution_count": 63,
   "metadata": {},
   "outputs": [
    {
     "output_type": "execute_result",
     "data": {
      "text/plain": [
       "array([-1., -1., -1., -1.])"
      ]
     },
     "metadata": {},
     "execution_count": 63
    }
   ],
   "source": [
    "stronghold.transitionReward[10]"
   ]
  },
  {
   "cell_type": "code",
   "execution_count": 15,
   "metadata": {},
   "outputs": [
    {
     "output_type": "execute_result",
     "data": {
      "text/plain": [
       "[(57, 0.1), (67, 0.1), (69, 0.7), (79, 0.1)]"
      ]
     },
     "metadata": {},
     "execution_count": 15
    }
   ],
   "source": [
    "stronghold.getSuccessors(68, 3)"
   ]
  },
  {
   "cell_type": "code",
   "execution_count": 16,
   "metadata": {},
   "outputs": [],
   "source": [
    "class Policies():\n",
    "    def __init__(self, env):\n",
    "        self.env = env\n",
    "    \n",
    "    def random_policy(self, observations):\n",
    "        return action\n",
    "\n",
    "        ############################################\n",
    "    def evaluate_policy(self, policy, trials = 1000):\n",
    "        total_reward = 0\n",
    "        for _ in range(trials):\n",
    "            self.env.reset()\n",
    "            done = False\n",
    "            observation, reward, done, info = self.env.step(policy[0])\n",
    "            total_reward += reward\n",
    "            while not done:\n",
    "                observation, reward, done, info = self.env.step(policy[observation])\n",
    "                total_reward += reward\n",
    "        return total_reward / trials\n",
    "\n",
    "    # def evaluate_policy_discounted(env, policy, discount_factor, trials = 1000):\n",
    "    #     total_reward = 0\n",
    "    #     #INSERT YOUR CODE HERE\n",
    "    #     for _ in range(trials):\n",
    "    #         env.reset()\n",
    "    #         done = False\n",
    "    #         observation, reward, done, info = self.step(policy[0])\n",
    "    #         beta = 1\n",
    "    #         total_reward += (reward * beta)\n",
    "    #         while not done: \n",
    "    #             observation, reward, done, info = self.step(policy[observation])\n",
    "    #             beta *= discount_factor\n",
    "    #             total_reward += (beta * reward)\n",
    "    #     return total_reward / trials\n"
   ]
  },
  {
   "source": [
    "stronghold = Stronghold(11)\n",
    "stronghold.render()\n",
    "pi = [0] * stronghold.size * stronghold.size\n",
    "evalu = Policies(stronghold)\n",
    "for i in range(stronghold.size * stronghold.size):\n",
    "    pi[i] = randint(0, 3)\n",
    "print(\"Average reward:\", evalu.evaluate_policy(stronghold, pi)\n",
    "# print(\"Average discounted reward:\", \n",
    "#       evaluate_policy_discounted(env, pi, discount_factor = 0.999))"
   ],
   "cell_type": "code",
   "metadata": {},
   "execution_count": null,
   "outputs": []
  },
  {
   "source": [
    "# Ignore"
   ],
   "cell_type": "markdown",
   "metadata": {}
  },
  {
   "cell_type": "code",
   "execution_count": null,
   "metadata": {},
   "outputs": [],
   "source": [
    "    # def observations(self):  \n",
    "    #     proximity = self.land[self.position_agent[0]-1: self.position_agent[0]+2,\n",
    "    #                             self.position_agent[1] -1: self.position_agent[1] +2]\n",
    "    #     observations = {'relative intel coords': self.position_intel - self.position_agent, 'proximity': proximity}\n",
    "    #     return observations\n",
    "\n",
    "# def step(self, action):\n",
    "    #     # agent moves\n",
    "    #     current_position = np.array((self.position_agent[0], self.position_agent[1])) # saving the current position in case agent hits a wall\n",
    "    #     current_state = self.agent_state\n",
    "    #     reward_step = 0\n",
    "    #     if action == 0:                                          # action is 'up', 'down', 'left', or 'right'\n",
    "    #         self.position_agent[0] -= 1\n",
    "    #         self.agent_state = self.to_state(self.position_agent[0], self.position_agent[1]) \n",
    "    #     if action == 1:\n",
    "    #         self.position_agent[0] += 1\n",
    "    #         self.agent_state = self.to_state(self.position_agent[0], self.position_agent[1]) \n",
    "    #     if action == 2:\n",
    "    #         self.position_agent[1] -= 1\n",
    "    #         self.agent_state = self.to_state(self.position_agent[0], self.position_agent[1])\n",
    "    #     if action == 3:\n",
    "    #         self.position_agent[1] += 1\n",
    "    #         self.agent_state = self.to_state(self.position_agent[0], self.position_agent[1])\n",
    "\n",
    "    #     # calculate total reward\n",
    "    #     reward_step += self.getReward(self.agent_state, action)\n",
    "    #     if self.agent_state == self.intel_state:                    # termination condition\n",
    "    #         done = True\n",
    "\n",
    "        \n",
    "    #     if self.land[self.position_agent[0], self.position_agent[1]] == 1:\n",
    "    #         reward_step -= 1\n",
    "    #         self.position_agent = current_position                                                         \n",
    "    #     if self.land[self.position_agent[0], self.position_agent[1]] == 3 or self.land[self.position_agent[0], self.position_agent[1]] == 4:\n",
    "    #         reward_step -= 1000\n",
    "    #         done = True\n",
    "    #     if self.land[self.position_agent[0], self.position_agent[1]] == 5:\n",
    "    #         reward_step += 1000\n",
    "    #         done = True                             \n",
    "\n",
    "    #     observations = self.observations()                  # calculate observations\n",
    "        \n",
    "    #     if self.time_elapsed == self.time_limit:            # time-limit termination condition\n",
    "    #         done = True\n",
    "    #     else:\n",
    "    #         done = False\n",
    "    #         self.time_elapsed += 1              # update time\n",
    "    #         reward_step -= 1                    # negative reward per time-step\n",
    "        \n",
    "    #     self.render()                       # update visualisation\n",
    "    #     return observations, reward, done"
   ]
  },
  {
   "cell_type": "code",
   "execution_count": null,
   "metadata": {},
   "outputs": [],
   "source": [
    "# prob_n = np.asarray([t[0] for t in self.P[self.agent_state][action]])\n",
    "# csprob_n = np.cumsum(prob_n)\n",
    "# i = (csprob_n > np_random.rand()).argmax()"
   ]
  },
  {
   "cell_type": "code",
   "execution_count": null,
   "metadata": {},
   "outputs": [],
   "source": [
    "# self.R = self.fill_reward_matrix()\n",
    "# self.P = self.fill_transition_matrix()    \n",
    "    \n",
    "    # def fill_transition_matrix(self):\n",
    "    #     state_transition_matrix = []\n",
    "    #     for i in range(len(self.land)):\n",
    "    #         for j in range(len(self.land)):\n",
    "    #             if i-1 < 0:\n",
    "    #                 state_up = None\n",
    "    #             else: state_up = np.array([i-1, j])\n",
    "    #             if i+1 > len(self.land)-1:\n",
    "    #                 state_down = None\n",
    "    #             else: state_down = np.array([i+1, j])\n",
    "    #             if j-1 < 0:\n",
    "    #                 state_left = None\n",
    "    #             else: state_left = np.array([i, j-1])\n",
    "    #             if j+1 > len(self.land)-1:\n",
    "    #                 state_right = None\n",
    "    #             else: state_right = np.array([i, j+1])\n",
    "    #             state_transition_matrix.append([state_up, state_down, state_left, state_right])\n",
    "    #     state_transition_array = np.array(state_transition_matrix, dtype=object).reshape(self.size*self.size, 4) # used to be 1 at the end\n",
    "    #     P = np.vsplit(state_transition_array, self.size) # P maps the position of the agent (the state) and action to reachable states - N*N is number of reachable states, 4 is number of possible actions \n",
    "    #     return P\n",
    "        \n",
    "    # def fill_reward_matrix(self): # change the values to reward values?\n",
    "    #     reward_matrix = []\n",
    "    #     for i in range(len(self.land)):\n",
    "    #         for j in range(len(self.land)):\n",
    "    #             if i-1 < 0:\n",
    "    #                 reward_up = None\n",
    "    #             else: reward_up = self.land[i-1][j]\n",
    "    #             if i+1 > len(self.land)-1:\n",
    "    #                 reward_down = None\n",
    "    #             else: reward_down = self.land[i+1][j]\n",
    "    #             if j-1 < 0:\n",
    "    #                 reward_left = None\n",
    "    #             else: reward_left = self.land[i][j-1]\n",
    "    #             if j+1 > len(self.land)-1:\n",
    "    #                 reward_right = None\n",
    "    #             else: reward_right = self.land[i][j+1]\n",
    "    #             reward_matrix.append([reward_up, reward_down, reward_left, reward_right])\n",
    "    #     reward_array = np.array(reward_matrix).reshape(self.size*self.size, 4) \n",
    "    #     R = np.vsplit(reward_array, self.size) # R maps the position of the agent (the state) and action to rewards - currently displays the obstacles but can be changed to rewaerd values\n",
    "    #     return R"
   ]
  },
  {
   "cell_type": "code",
   "execution_count": null,
   "metadata": {},
   "outputs": [],
   "source": [
    "   def fill_transition_probability_matrix(self):\n",
    "        state_transition_matrix = []\n",
    "        for i in range(len(self.land)):\n",
    "            for j in range(len(self.land)):\n",
    "                if i-1 < 0:\n",
    "                    state_up = None\n",
    "                elif self.land[i][j] == 0: \n",
    "                    state_up = np.array([[i-1, j], 1.0])\n",
    "                elif self.land[i][j] == 1: \n",
    "                    state_up = np.array([[i-1, j], 1.0])\n",
    "                elif self.land[i][j] == 3: \n",
    "                    state_up = np.array([[i-1, j], 1.0])\n",
    "                elif self.land[i][j] == 4: \n",
    "                    state_up = np.array([[i-1, j], 1.0])\n",
    "                elif self.land[i][j] == 5: \n",
    "                    state_up = np.array([[i-1, j], 1.0])\n",
    "                \n",
    "                if i+1 > len(self.land)-1:\n",
    "                    state_down = None\n",
    "                elif self.land[i][j] == 0: \n",
    "                    state_down = np.array([[i+1, j], 1.0])\n",
    "                elif self.land[i][j] == 1: \n",
    "                    state_down = np.array([[i+1, j], 1.0])\n",
    "                elif self.land[i][j] == 3: \n",
    "                    state_down = np.array([[i+1, j], 1.0])\n",
    "                elif self.land[i][j] == 4: \n",
    "                    state_down = np.array([[i+1, j], 1.0])\n",
    "                elif self.land[i][j] == 5: \n",
    "                    state_down = np.array([[i+1, j], 1.0])\n",
    "                \n",
    "                if j-1 < 0:\n",
    "                    state_left = None\n",
    "                elif self.land[i][j] == 0: \n",
    "                    state_left = np.array([[i, j-1], 1.0])\n",
    "                elif self.land[i][j] == 1: \n",
    "                    state_left = np.array([[i, j-1], 1.0])\n",
    "                elif self.land[i][j] == 3: \n",
    "                    state_left = np.array([[i, j-1], 1.0])\n",
    "                elif self.land[i][j] == 4: \n",
    "                    state_left = np.array([[i, j-1], 1.0])\n",
    "                elif self.land[i][j] == 5: \n",
    "                    state_left = np.asarray([[i, j-1], 1.0])\n",
    "            \n",
    "                if j+1 > len(self.land)-1:\n",
    "                    state_right = None\n",
    "                elif self.land[i][j] == 0: \n",
    "                    state_right = np.array([[i, j+1], 1.0])\n",
    "                elif self.land[i][j] == 1: \n",
    "                    state_right = np.array([[i, j+1], 1.0])\n",
    "                elif self.land[i][j] == 3: \n",
    "                    state_right = np.array([[i, j+1], 1.0])\n",
    "                elif self.land[i][j] == 4: \n",
    "                    state_right = np.array([[i, j+1], 1.0])\n",
    "                elif self.land[i][j] == 5: \n",
    "                    state_right = np.array([[i, j+1], 1.0])\n",
    "                state_transition_matrix.append([state_up, state_down, state_left, state_right])\n",
    "        state_transition_array = np.array(state_transition_matrix).reshape(self.size*self.size, 4) # used to be 1 at the end\n",
    "        det_P = np.vsplit(state_transition_array, self.size) # deterministic version of P"
   ]
  }
 ]
}