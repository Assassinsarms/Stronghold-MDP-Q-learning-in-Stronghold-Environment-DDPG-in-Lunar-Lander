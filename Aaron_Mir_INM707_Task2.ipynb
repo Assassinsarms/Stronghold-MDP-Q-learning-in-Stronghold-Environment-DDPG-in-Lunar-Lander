{
 "cells": [
  {
   "cell_type": "markdown",
   "metadata": {},
   "source": [
    "# INM707 Coursework Task 2\r\n",
    "### Aaron Mir (Student Number: 160001207)"
   ]
  },
  {
   "cell_type": "markdown",
   "metadata": {},
   "source": [
    "## Q-learning algorithm implemented for the Stronghold environment to find the best policy"
   ]
  },
  {
   "cell_type": "markdown",
   "metadata": {},
   "source": [
    "***\r\n",
    "## Stronghold\r\n",
    "\r\n",
    "The robot agent is preparing for an upcoming mission in which they are to infiltrate an enemy stronghold to gather intelligence on a potential coup d'état. The enemy land is in the form of an NxN grid with each grid containing one stronghold of size N x N/2 (starting on either side of the middle column (randomly decided)) and a wide river surrounding the entire enemy land. The entire land is very misty, therefore the robot may not step where it is supposed to. Each move has a transition probability associated with it (0.7 to move to the chosen state or 0.3 to move to one of the other sides) (stochasticity). The stronghold has as many entrances from the mainland as (1/4)N and contains (1/5)N dangerous enemy combatants (at random positions) within the stronghold that move around randomly per step (stochasticity).  The amount of shore that has traps on it is (1/4)N x rows of shore. The column immediately beside the stronghold is normal land to prevent entrance blocking. The goal of the agent is to infiltrate the stronghold and gather the intelligence without being killed by enemy combatants or booby traps as fast as possible.\r\n",
    "\r\n",
    "This is a type of gridworld environment. The size (number of states) can be controlled by adjusting the grid dimensions.\r\n",
    "\r\n",
    "The environment is defined as follows:\r\n",
    "\r\n",
    "- The environment is a rectangular grid of states/cells. There are five different types of cells as indicated by the following cell labels: \r\n",
    "\r\n",
    "    - _ labels cells that are safe to step on i.e. normal land [0]\r\n",
    "\r\n",
    "    - X labels the cells that are walls i.e. river or wall and if the agent enters a wall cell, there is a penalty of -1 [1]\r\n",
    "    \r\n",
    "    - A labels the cell the agent is on, starts on a random cell on the shore [2]\r\n",
    "    \r\n",
    "    - T labels booby-trap cells and if the agent enters a booby-trap cell there is a pentalty of -1000 and the episode ends [3]\r\n",
    "\r\n",
    "    - E labels enemy cells and if the agent enters an enemy cell there is a pentalty of -1000 and the episode ends [4]\r\n",
    "\r\n",
    "    - I labels the intelligence cell and when reached gives a reward of 1000 and the episode ends [5]\r\n",
    "\r\n",
    "- There are four possible actions (Up, Down, Left, Right). \r\n",
    "\r\n",
    "- The transition function moves the agent in the expected direction with 0.7 probability, and there is a 0.3 probability of transitioning to one of the sides.\r\n",
    "\r\n",
    "- There is a reward of -1 for each action taken by the agent, which is intended to encourage the agent to reach the goal as fast as possible. If the agent runs out of time, the episode ends. \r\n",
    "\r\n",
    "- Episodes end whenever the agent falls in a booby-trap, gets killed by an enemy, reaches the goal/intelligence or runs out of time. The end-of-episode is modelled by transitioning to a zero-reward terminal state (all actions lead to that state). \r\n",
    "\r\n",
    "State of the agent: Governed by the state number of the cell it is on.\r\n",
    "\r\n",
    "States of the environment: Governed by the state number of the agent and the state number of moving enemies.\r\n",
    "\r\n",
    "Number of states of the environment is given by the size of the grid and the size of the stronghold in which enemies can move. e.g. for a 10x10 grid with a stronghold size of 6x3 and 6 enemies, the number of states is 100 - 6x3-1 +  (6x3-1 (because of starting state)/6)  - 1 (because of the intelligence in the stronghold)\r\n",
    "\r\n",
    "Rewards/Penalties: +1000 for getting intelligence, -1000 for getting hurt by a combatant or booby trap, -1 for moving into a wall or water, -1 per transition because of fuel constraints\r\n",
    "\r\n",
    "***"
   ]
  },
  {
   "cell_type": "markdown",
   "metadata": {},
   "source": [
    "Q-learning works by building a table of action and states and learning the 'q-values' at each location. The values in the table are randomly (or zero) initialized at first and are learnt through the bellman equation.\r\n",
    "The bellman equation is \r\n",
    "\r\n",
    "<img src=\"Bellman Eq.png\" alt=\"Bellman\" width=\"1000\"/>\r\n",
    "\r\n",
    "The learning starts by first focussing more on the exploration and then on the exploitation. This is because in the start we don't know which is the optimal step and hence we must try to explore entire space and later do exploitation. Exploration simply means randomly selecting an action and exploitation means selecting the action with highest reward. This transition can be easily modelled using exponentially or linearly scheduling the exploration probability."
   ]
  },
  {
   "cell_type": "code",
   "execution_count": 15,
   "metadata": {},
   "outputs": [],
   "source": [
    "from stronghold.stronghold import Stronghold\r\n",
    "import numpy as np\r\n",
    "import matplotlib.pyplot as plt"
   ]
  },
  {
   "cell_type": "markdown",
   "metadata": {},
   "source": [
    "Checklist:\r\n",
    "\r\n",
    "    1. Build a Q-table"
   ]
  },
  {
   "cell_type": "code",
   "execution_count": 18,
   "metadata": {},
   "outputs": [
    {
     "data": {
      "image/png": "[encoded data removed]",
      "text/plain": "<Figure size 360x360 with 1 Axes>"
     },
     "metadata": {
      "needs_background": "light"
     },
     "output_type": "display_data"
    }
   ],
   "source": [
    "stronghold = Stronghold(10)\r\n",
    "stronghold.reset()\r\n",
    "stronghold.render()"
   ]
  },
  {
   "cell_type": "code",
   "execution_count": null,
   "metadata": {},
   "outputs": [],
   "source": [
    "# A class to represent policies the agent can take and evaluation \r\n",
    "class Policies():\r\n",
    "    def __init__(self, epsilon, lr, episodes, env_size, test_len = 100, action_space = 4, beta = 0.999, testing = True):\r\n",
    "        self.epsilon = epsilon\r\n",
    "        self.lr = lr\r\n",
    "        self.test_interval = test_interval\r\n",
    "        self.beta = beta\r\n",
    "        self.action_space = action_space\r\n",
    "        self.state_space = env_size * env_size + 1\r\n",
    "        self.q_table = np.zeros((self.state_space, self.action_space))\r\n",
    "        self.testing = testing\r\n",
    "\r\n",
    "    def explore_exploit_policy(self, current_state):\r\n",
    "        if np.random.uniform(0, 1) > self.epsilon:\r\n",
    "            return self.greedy_policy(current_state)\r\n",
    "        else:\r\n",
    "            return np.random.randint(0, self.action_space - 1)\r\n",
    "\r\n",
    "    def greedy_policy(self, current_state):\r\n",
    "        return np.argmax(self.q_table[curr_state,:])\r\n",
    "\r\n",
    "    def learn(self):\r\n",
    "        pass \r\n",
    "\r\n",
    "    def evaluate_policy(self, policy, trials = 100):\r\n",
    "        total_evaluation_reward = 0\r\n",
    "        for i in range(trials):\r\n",
    "            stronghold.reset()\r\n",
    "            steps = 0 \r\n",
    "            done = False\r\n",
    "            state, reward, done, info = stronghold.step(policy)\r\n",
    "            total_evaluation_reward += (self.beta ** steps) * reward\r\n",
    "            trial_reward = 0\r\n",
    "            steps += 1\r\n",
    "            while not done:\r\n",
    "                state, reward, done, info = stronghold.step(policy)\r\n",
    "                trial_reward += (self.beta ** steps) * reward\r\n",
    "                total_evaluation_reward += (self.beta ** steps) * reward\r\n",
    "                steps += 1\r\n",
    "                if view == True:\r\n",
    "                    print(\"state\", state)\r\n",
    "                    env.render()\r\n",
    "                    time.sleep(0.5)\r\n",
    "                    clear_output(wait=True)\r\n",
    "            print(\"Total reward for trial = \", trial_reward)\r\n",
    "        return total_evaluation_reward / trials\r\n"
   ]
  },
  {
   "cell_type": "code",
   "execution_count": null,
   "metadata": {},
   "outputs": [],
   "source": [
    "class Agent(Policies):\r\n",
    "    def __init__(self, epsilon, lr, episodes, env_size, test_len = 100, action_space = 4, beta = 0.999, testing = True):\r\n",
    "        super().__init__(epsilon, lr, episodes, env_size, test_len = test_len, action_space = action_space, beta = beta, testing = testing)\r\n",
    "        self.step_max = 100\r\n",
    "    \r\n",
    "    def Qlearn(self):\r\n",
    "        for i in range(self.test_interval):\r\n",
    "            current_state = stronghold.reset()\r\n",
    "            for j in range(self.step_max):\r\n",
    "                choice_action = self.explore_exploit_policy(current_state)\r\n",
    "                state, reward, done, info = stronghold.step(choice_action)\r\n",
    "                new_choice =  self.greedy_policy(state)\r\n",
    "\r\n",
    "                self.q_table[current_state, choice_action] = self.q_table[current_state, choice_action] + self.lr * \\\r\n",
    "                    (reward + self.beta *  self.q_table[state, new_choice] - self.q_table[current_state, choice_action])\r\n",
    "\r\n",
    "                current_state = new_state\r\n",
    "                if done == True:\r\n",
    "                    break\r\n"
   ]
  },
  {
   "cell_type": "code",
   "execution_count": null,
   "metadata": {},
   "outputs": [],
   "source": [
    "stronghold.reset()\r\n",
    "epsilon = 0.3\r\n",
    "lr = 0.001\r\n",
    "episodes = 5000\r\n",
    "testing = False\r\n",
    "# do q learning"
   ]
  }
 ],
 "metadata": {
  "kernelspec": {
   "display_name": "Python 3.8.7 64-bit",
   "name": "python387jvsc74a57bd02db524e06e9f5f4ffedc911c917cb75e12dbc923643829bf417064a77eb14d37"
  },
  "language_info": {
   "codemirror_mode": {
    "name": "ipython",
    "version": 3
   },
   "file_extension": ".py",
   "mimetype": "text/x-python",
   "name": "python",
   "nbconvert_exporter": "python",
   "pygments_lexer": "ipython3",
   "version": "3.8.7"
  },
  "orig_nbformat": 2
 },
 "nbformat": 4,
 "nbformat_minor": 2
}