{
 "cells": [
  {
   "cell_type": "markdown",
   "metadata": {},
   "source": [
    "# INM707 Coursework Task 3\r\n",
    "### Aaron Mir (Student Number: 160001207)\r\n",
    "## DDPG Implementation on Lunar Lander Environment"
   ]
  },
  {
   "cell_type": "code",
   "execution_count": null,
   "metadata": {},
   "outputs": [],
   "source": [
    "##--------------------Coding References---------------------## \r\n",
    "# Percentage of borrowed code: 10% - DDPG Implementation inspired by Spinning Up implementation\r\n",
    "# [1] Spinning Up (2020) DDPG, \r\n",
    "# Available at: https://github.com/openai/spinningup/tree/master/spinup/algos/pytorch/ddpg (Accessed: 29th March 2021)."
   ]
  },
  {
   "cell_type": "code",
   "execution_count": 21,
   "metadata": {},
   "outputs": [],
   "source": [
    "import gym\r\n",
    "import numpy as np \r\n",
    "import torch\r\n",
    "from stronghold.ddpg import ddpg_train_val, test_agent\r\n",
    "import pickle\r\n",
    "import matplotlib.pyplot as plt\r\n",
    "from IPython.display import HTML"
   ]
  },
  {
   "cell_type": "markdown",
   "metadata": {},
   "source": [
    "***\r\n",
    "## Lunar Lander\r\n",
    "\r\n",
    "The environment is defined as follows:\r\n",
    "\r\n",
    "- The goal is to land the lunar module on the moon between the flags without crashing. The state vector is eight dimensional and contains: [x_pos, y_pos, x_vel, y_vel, lander_angle, lander_angular_vel, leftleg ground_contact_flag, right_leg_ground_contact_flag]. \r\n",
    "\r\n",
    "- The landing pad coordinates are always at 0, 0 and are the first two numbers in the state vector.\r\n",
    "\r\n",
    "- There are two possible actions which take float values [main engine, left-right engines].\r\n",
    "\r\n",
    "    - Main engine: from -1 to 0, the engine is off and between 0 and +1, the engine throttle is from 50% to 100% power. The engine can't work with less than 50% power.\r\n",
    "\r\n",
    "    - Left-right engines: from -1 to -0.5, the left engine is on. From +0.5 to +1, the right engine is on. Between -0.5 and 0.5, both engines are off.\r\n",
    "    \r\n",
    "- The agent recieves +100-140 reward for moving from the top of the screen to the landing pad, a -100 penalty for crashing into the landing pad and an additional +100 reward for landing on the pad at rest. Each leg that is in contact with the ground is +10. Firing the main engine is -0.3 penalty for each frame. \r\n",
    "\r\n",
    "- The environment is considered solved when the agent gets +200 reward.\r\n",
    "\r\n",
    "- Episodes end whenever the agent crashes or comes to a rest.\r\n",
    "\r\n",
    "***"
   ]
  },
  {
   "cell_type": "code",
   "execution_count": 2,
   "metadata": {},
   "outputs": [],
   "source": [
    "def make_env(env_name, seed=None):  # remove time limit wrapper from environment\r\n",
    "    env = gym.make(env_name).unwrapped\r\n",
    "    if seed is not None:\r\n",
    "        env.seed(seed)\r\n",
    "    return env"
   ]
  },
  {
   "cell_type": "code",
   "execution_count": 3,
   "metadata": {},
   "outputs": [
    {
     "name": "stdout",
     "output_type": "stream",
     "text": [
      "State shape: (8,)\n",
      "Action shape: (2,)\n"
     ]
    },
    {
     "data": {
      "image/png": "[encoded data removed]",
      "text/plain": "<Figure size 432x288 with 1 Axes>"
     },
     "metadata": {
      "needs_background": "light"
     },
     "output_type": "display_data"
    }
   ],
   "source": [
    "env = make_env('LunarLanderContinuous-v2')\r\n",
    "env.reset()\r\n",
    "plt.imshow(env.render(\"rgb_array\"))\r\n",
    "state_shape, action_shape = env.observation_space.shape, env.action_space.shape\r\n",
    "print('State shape: {}'.format(state_shape))\r\n",
    "print('Action shape: {}'.format(action_shape))\r\n",
    "env.close()"
   ]
  },
  {
   "cell_type": "code",
   "execution_count": 4,
   "metadata": {},
   "outputs": [],
   "source": [
    "def save_checkpoint(state, filename):\r\n",
    "    print('=> Saving checkpoint')\r\n",
    "    torch.save(state, filename)\r\n",
    "\r\n",
    "def load_checkpoint(checkpoint, model, q_optimizer, policy_optimizer):\r\n",
    "    print('=> Loading checkpoint')\r\n",
    "    model.load_state_dict(checkpoint['state_dict'])\r\n",
    "    policy_optimizer.load_state_dict(checkpoint['policy_optimizer'])\r\n",
    "    q_optimizer.load_state_dict(checkpoint['q_optimizer'])"
   ]
  },
  {
   "cell_type": "code",
   "execution_count": 5,
   "metadata": {},
   "outputs": [
    {
     "name": "stdout",
     "output_type": "stream",
     "text": [
      "Epoch: 1, Training Average Reward: -219, Training Average Length: 105\n",
      "Epoch: 1, Val Average Reward: -208, Val Average Length: 640\n",
      "Epoch: 2, Training Average Reward: -233, Training Average Length: 104\n",
      "Epoch: 2, Val Average Reward: 37, Val Average Length: 401\n",
      "Epoch: 3, Training Average Reward: -201, Training Average Length: 132\n",
      "Epoch: 3, Val Average Reward: -241, Val Average Length: 164\n",
      "Epoch: 4, Training Average Reward: -35, Training Average Length: 236\n",
      "Epoch: 4, Val Average Reward: -39, Val Average Length: 250\n",
      "Epoch: 5, Training Average Reward: -174, Training Average Length: 407\n",
      "Epoch: 5, Val Average Reward: -292, Val Average Length: 516\n",
      "Epoch: 6, Training Average Reward: -60, Training Average Length: 495\n",
      "Epoch: 6, Val Average Reward: -185, Val Average Length: 393\n",
      "Epoch: 7, Training Average Reward: -224, Training Average Length: 566\n",
      "Epoch: 7, Val Average Reward: -199, Val Average Length: 373\n",
      "Epoch: 8, Training Average Reward: -189, Training Average Length: 448\n",
      "Epoch: 8, Val Average Reward: -145, Val Average Length: 640\n",
      "Epoch: 9, Training Average Reward: -156, Training Average Length: 365\n",
      "Epoch: 9, Val Average Reward: -172, Val Average Length: 322\n",
      "Epoch: 10, Training Average Reward: -133, Training Average Length: 274\n",
      "Epoch: 10, Val Average Reward: -223, Val Average Length: 339\n",
      "Epoch: 11, Training Average Reward: -188, Training Average Length: 854\n",
      "Epoch: 11, Val Average Reward: -72, Val Average Length: 843\n",
      "Epoch: 12, Training Average Reward: -153, Training Average Length: 1000\n",
      "Epoch: 12, Val Average Reward: -298, Val Average Length: 690\n",
      "Epoch: 13, Training Average Reward: -151, Training Average Length: 513\n",
      "Epoch: 13, Val Average Reward: -145, Val Average Length: 683\n",
      "Epoch: 14, Training Average Reward: -174, Training Average Length: 483\n",
      "Epoch: 14, Val Average Reward: -63, Val Average Length: 851\n",
      "Epoch: 15, Training Average Reward: -168, Training Average Length: 557\n",
      "Epoch: 15, Val Average Reward: -129, Val Average Length: 628\n",
      "Epoch: 16, Training Average Reward: -160, Training Average Length: 401\n",
      "Epoch: 16, Val Average Reward: -120, Val Average Length: 635\n",
      "Epoch: 17, Training Average Reward: -80, Training Average Length: 555\n",
      "Epoch: 17, Val Average Reward: -132, Val Average Length: 645\n",
      "Epoch: 18, Training Average Reward: -50, Training Average Length: 1000\n",
      "Epoch: 18, Val Average Reward: -48, Val Average Length: 912\n",
      "Epoch: 19, Training Average Reward: -72, Training Average Length: 822\n",
      "Epoch: 19, Val Average Reward: -271, Val Average Length: 524\n",
      "Epoch: 20, Training Average Reward: -58, Training Average Length: 631\n",
      "Epoch: 20, Val Average Reward: -132, Val Average Length: 839\n",
      "Epoch: 21, Training Average Reward: -137, Training Average Length: 693\n",
      "Epoch: 21, Val Average Reward: -86, Val Average Length: 441\n",
      "Epoch: 22, Training Average Reward: 63, Training Average Length: 585\n",
      "Epoch: 22, Val Average Reward: -89, Val Average Length: 569\n",
      "Epoch: 23, Training Average Reward: -142, Training Average Length: 716\n",
      "Epoch: 23, Val Average Reward: -108, Val Average Length: 641\n",
      "Epoch: 24, Training Average Reward: -21, Training Average Length: 303\n",
      "Epoch: 24, Val Average Reward: -97, Val Average Length: 510\n",
      "Epoch: 25, Training Average Reward: -45, Training Average Length: 660\n",
      "Epoch: 25, Val Average Reward: -44, Val Average Length: 394\n",
      "Epoch: 26, Training Average Reward: -164, Training Average Length: 478\n",
      "Epoch: 26, Val Average Reward: -49, Val Average Length: 668\n",
      "Epoch: 27, Training Average Reward: -85, Training Average Length: 613\n",
      "Epoch: 27, Val Average Reward: -43, Val Average Length: 535\n",
      "Epoch: 28, Training Average Reward: -120, Training Average Length: 499\n",
      "Epoch: 28, Val Average Reward: -106, Val Average Length: 751\n",
      "Epoch: 29, Training Average Reward: -118, Training Average Length: 812\n",
      "Epoch: 29, Val Average Reward: -102, Val Average Length: 811\n",
      "Epoch: 30, Training Average Reward: -67, Training Average Length: 1000\n",
      "Epoch: 30, Val Average Reward: -62, Val Average Length: 822\n",
      "Epoch: 31, Training Average Reward: -136, Training Average Length: 722\n",
      "Epoch: 31, Val Average Reward: 26, Val Average Length: 240\n",
      "Epoch: 32, Training Average Reward: -213, Training Average Length: 570\n",
      "Epoch: 32, Val Average Reward: -136, Val Average Length: 677\n",
      "Epoch: 33, Training Average Reward: -93, Training Average Length: 535\n",
      "Epoch: 33, Val Average Reward: -0, Val Average Length: 762\n",
      "Epoch: 34, Training Average Reward: -165, Training Average Length: 333\n",
      "Epoch: 34, Val Average Reward: -54, Val Average Length: 460\n",
      "Epoch: 35, Training Average Reward: -142, Training Average Length: 410\n",
      "Epoch: 35, Val Average Reward: -230, Val Average Length: 265\n",
      "Epoch: 36, Training Average Reward: 63, Training Average Length: 629\n",
      "Epoch: 36, Val Average Reward: -98, Val Average Length: 713\n",
      "Epoch: 37, Training Average Reward: 19, Training Average Length: 526\n",
      "Epoch: 37, Val Average Reward: 18, Val Average Length: 386\n",
      "Epoch: 38, Training Average Reward: -89, Training Average Length: 642\n",
      "Epoch: 38, Val Average Reward: 34, Val Average Length: 436\n",
      "Epoch: 39, Training Average Reward: 15, Training Average Length: 535\n",
      "Epoch: 39, Val Average Reward: -102, Val Average Length: 470\n",
      "Epoch: 40, Training Average Reward: -70, Training Average Length: 748\n",
      "Epoch: 40, Val Average Reward: -26, Val Average Length: 310\n",
      "Epoch: 41, Training Average Reward: 48, Training Average Length: 673\n",
      "Epoch: 41, Val Average Reward: -223, Val Average Length: 330\n",
      "Epoch: 42, Training Average Reward: -85, Training Average Length: 496\n",
      "Epoch: 42, Val Average Reward: -128, Val Average Length: 528\n",
      "Epoch: 43, Training Average Reward: -143, Training Average Length: 343\n",
      "Epoch: 43, Val Average Reward: -93, Val Average Length: 368\n",
      "Epoch: 44, Training Average Reward: -90, Training Average Length: 253\n",
      "Epoch: 44, Val Average Reward: -162, Val Average Length: 713\n",
      "Epoch: 45, Training Average Reward: -107, Training Average Length: 394\n",
      "Epoch: 45, Val Average Reward: -25, Val Average Length: 219\n",
      "Epoch: 46, Training Average Reward: -130, Training Average Length: 193\n",
      "Epoch: 46, Val Average Reward: -57, Val Average Length: 363\n",
      "Epoch: 47, Training Average Reward: -55, Training Average Length: 316\n",
      "Epoch: 47, Val Average Reward: -77, Val Average Length: 280\n",
      "Epoch: 48, Training Average Reward: -93, Training Average Length: 272\n",
      "Epoch: 48, Val Average Reward: -135, Val Average Length: 222\n",
      "Epoch: 49, Training Average Reward: -72, Training Average Length: 329\n",
      "Epoch: 49, Val Average Reward: 57, Val Average Length: 601\n",
      "Epoch: 50, Training Average Reward: -80, Training Average Length: 856\n",
      "Epoch: 50, Val Average Reward: -47, Val Average Length: 522\n",
      "Epoch: 51, Training Average Reward: 119, Training Average Length: 517\n",
      "Epoch: 51, Val Average Reward: -6, Val Average Length: 445\n",
      "Epoch: 52, Training Average Reward: 38, Training Average Length: 707\n",
      "Epoch: 52, Val Average Reward: 172, Val Average Length: 510\n",
      "Epoch: 53, Training Average Reward: 84, Training Average Length: 873\n",
      "Epoch: 53, Val Average Reward: 104, Val Average Length: 361\n",
      "Epoch: 54, Training Average Reward: 142, Training Average Length: 361\n",
      "Epoch: 54, Val Average Reward: 173, Val Average Length: 426\n",
      "Epoch: 55, Training Average Reward: 167, Training Average Length: 350\n",
      "Epoch: 55, Val Average Reward: 150, Val Average Length: 436\n",
      "Epoch: 56, Training Average Reward: 78, Training Average Length: 291\n",
      "Epoch: 56, Val Average Reward: 141, Val Average Length: 261\n",
      "Epoch: 57, Training Average Reward: 143, Training Average Length: 217\n",
      "Epoch: 57, Val Average Reward: -4, Val Average Length: 175\n",
      "Epoch: 58, Training Average Reward: 145, Training Average Length: 329\n",
      "Epoch: 58, Val Average Reward: 143, Val Average Length: 603\n",
      "Epoch: 59, Training Average Reward: 5, Training Average Length: 481\n",
      "Epoch: 59, Val Average Reward: 67, Val Average Length: 647\n",
      "Epoch: 60, Training Average Reward: 109, Training Average Length: 593\n",
      "Epoch: 60, Val Average Reward: 24, Val Average Length: 680\n",
      "Epoch: 61, Training Average Reward: 117, Training Average Length: 527\n",
      "Epoch: 61, Val Average Reward: 198, Val Average Length: 526\n",
      "Epoch: 62, Training Average Reward: 86, Training Average Length: 620\n",
      "Epoch: 62, Val Average Reward: 107, Val Average Length: 592\n",
      "Epoch: 63, Training Average Reward: 41, Training Average Length: 511\n",
      "Epoch: 63, Val Average Reward: 109, Val Average Length: 597\n",
      "Epoch: 64, Training Average Reward: 2, Training Average Length: 614\n",
      "Epoch: 64, Val Average Reward: 105, Val Average Length: 561\n",
      "Epoch: 65, Training Average Reward: 23, Training Average Length: 410\n",
      "Epoch: 65, Val Average Reward: 163, Val Average Length: 449\n",
      "Epoch: 66, Training Average Reward: 177, Training Average Length: 331\n",
      "Epoch: 66, Val Average Reward: 115, Val Average Length: 461\n",
      "Epoch: 67, Training Average Reward: 98, Training Average Length: 491\n",
      "Epoch: 67, Val Average Reward: 171, Val Average Length: 475\n",
      "Epoch: 68, Training Average Reward: 231, Training Average Length: 469\n",
      "Epoch: 68, Val Average Reward: 181, Val Average Length: 506\n",
      "Epoch: 69, Training Average Reward: 180, Training Average Length: 491\n",
      "Epoch: 69, Val Average Reward: 1, Val Average Length: 590\n",
      "Epoch: 70, Training Average Reward: 67, Training Average Length: 441\n",
      "Epoch: 70, Val Average Reward: 44, Val Average Length: 392\n",
      "Epoch: 71, Training Average Reward: 141, Training Average Length: 380\n",
      "Epoch: 71, Val Average Reward: 151, Val Average Length: 473\n",
      "Epoch: 72, Training Average Reward: 178, Training Average Length: 516\n",
      "Epoch: 72, Val Average Reward: 59, Val Average Length: 330\n",
      "Epoch: 73, Training Average Reward: 119, Training Average Length: 390\n",
      "Epoch: 73, Val Average Reward: 200, Val Average Length: 353\n",
      "Epoch: 74, Training Average Reward: 131, Training Average Length: 420\n",
      "Epoch: 74, Val Average Reward: 115, Val Average Length: 558\n",
      "Epoch: 75, Training Average Reward: 136, Training Average Length: 539\n",
      "Epoch: 75, Val Average Reward: 23, Val Average Length: 702\n",
      "Epoch: 76, Training Average Reward: 121, Training Average Length: 721\n",
      "Epoch: 76, Val Average Reward: 132, Val Average Length: 355\n",
      "Epoch: 77, Training Average Reward: 79, Training Average Length: 511\n",
      "Epoch: 77, Val Average Reward: -52, Val Average Length: 706\n",
      "Epoch: 78, Training Average Reward: 97, Training Average Length: 567\n",
      "Epoch: 78, Val Average Reward: 89, Val Average Length: 488\n",
      "Epoch: 79, Training Average Reward: 125, Training Average Length: 410\n",
      "Epoch: 79, Val Average Reward: 176, Val Average Length: 532\n",
      "Epoch: 80, Training Average Reward: -47, Training Average Length: 453\n",
      "Epoch: 80, Val Average Reward: 104, Val Average Length: 314\n",
      "Epoch: 81, Training Average Reward: 225, Training Average Length: 295\n",
      "Epoch: 81, Val Average Reward: 236, Val Average Length: 316\n",
      "Epoch: 82, Training Average Reward: 200, Training Average Length: 373\n",
      "Epoch: 82, Val Average Reward: 134, Val Average Length: 280\n",
      "Epoch: 83, Training Average Reward: 255, Training Average Length: 331\n",
      "Epoch: 83, Val Average Reward: 272, Val Average Length: 278\n",
      "Epoch: 84, Training Average Reward: 201, Training Average Length: 368\n",
      "Epoch: 84, Val Average Reward: 227, Val Average Length: 245\n",
      "Epoch: 85, Training Average Reward: 205, Training Average Length: 316\n",
      "Epoch: 85, Val Average Reward: 231, Val Average Length: 316\n",
      "Epoch: 86, Training Average Reward: 230, Training Average Length: 272\n",
      "Epoch: 86, Val Average Reward: 227, Val Average Length: 382\n",
      "Epoch: 87, Training Average Reward: 160, Training Average Length: 335\n",
      "Epoch: 87, Val Average Reward: 178, Val Average Length: 451\n",
      "Epoch: 88, Training Average Reward: 201, Training Average Length: 393\n",
      "Epoch: 88, Val Average Reward: 217, Val Average Length: 372\n",
      "Epoch: 89, Training Average Reward: 275, Training Average Length: 303\n",
      "Epoch: 89, Val Average Reward: 260, Val Average Length: 264\n",
      "Epoch: 90, Training Average Reward: 245, Training Average Length: 387\n",
      "Epoch: 90, Val Average Reward: 182, Val Average Length: 371\n",
      "Epoch: 91, Training Average Reward: 214, Training Average Length: 512\n",
      "Epoch: 91, Val Average Reward: 198, Val Average Length: 502\n",
      "Epoch: 92, Training Average Reward: 232, Training Average Length: 301\n",
      "Epoch: 92, Val Average Reward: 263, Val Average Length: 271\n",
      "Epoch: 93, Training Average Reward: 223, Training Average Length: 423\n",
      "Epoch: 93, Val Average Reward: 171, Val Average Length: 265\n",
      "Epoch: 94, Training Average Reward: 231, Training Average Length: 329\n",
      "Epoch: 94, Val Average Reward: 182, Val Average Length: 396\n",
      "Epoch: 95, Training Average Reward: 248, Training Average Length: 371\n",
      "Epoch: 95, Val Average Reward: 49, Val Average Length: 527\n",
      "Epoch: 96, Training Average Reward: 72, Training Average Length: 468\n",
      "Epoch: 96, Val Average Reward: 119, Val Average Length: 624\n",
      "Epoch: 97, Training Average Reward: 203, Training Average Length: 347\n",
      "Epoch: 97, Val Average Reward: 125, Val Average Length: 559\n",
      "Epoch: 98, Training Average Reward: 149, Training Average Length: 409\n",
      "Epoch: 98, Val Average Reward: 150, Val Average Length: 519\n",
      "Epoch: 99, Training Average Reward: 204, Training Average Length: 333\n",
      "Epoch: 99, Val Average Reward: 128, Val Average Length: 511\n",
      "Epoch: 100, Training Average Reward: 150, Training Average Length: 350\n",
      "Epoch: 100, Val Average Reward: 237, Val Average Length: 414\n"
     ]
    }
   ],
   "source": [
    "env_name = 'LunarLanderContinuous-v2'\r\n",
    "agent, q_optimizer, policy_optimizer, val_ep_rets_arr, val_ep_lens_arr = ddpg_train_val(lambda : make_env(env_name), seed=0, steps_per_epoch=4000, epochs=100, replay_size=int(1e6), gamma=0.99, polyak=0.995, \r\n",
    "        policy_lr=1e-3, q_lr=1e-3, batch_size=100, start_steps=10000, update_after=1000, update_every=50, act_noise=0.1, num_val_episodes=10, max_ep_len=1000)"
   ]
  },
  {
   "cell_type": "code",
   "execution_count": 18,
   "metadata": {},
   "outputs": [
    {
     "name": "stdout",
     "output_type": "stream",
     "text": [
      "=> Saving checkpoint\n"
     ]
    }
   ],
   "source": [
    "checkpoint = {\r\n",
    "    \"state_dict\": agent.state_dict(), \r\n",
    "    \"q-optimizer\": q_optimizer.state_dict(),\r\n",
    "    \"policy_optimizer\": policy_optimizer.state_dict(),}\r\n",
    "save_checkpoint(checkpoint, 'models/trained_gamma099qlr00001plr00001.pth.tar')"
   ]
  },
  {
   "cell_type": "code",
   "execution_count": 9,
   "metadata": {},
   "outputs": [],
   "source": [
    "def running_mean(x, N):\r\n",
    "    cumsum = np.cumsum(np.insert(x, 0, 0)) \r\n",
    "    return (cumsum[N:] - cumsum[:-N]) / float(N)"
   ]
  },
  {
   "cell_type": "code",
   "execution_count": 11,
   "metadata": {},
   "outputs": [],
   "source": [
    "ep_rets, ep_lens, avg_test_ep_rets, avg_test_ep_lens = test_agent(env, agent, 100, 1000)\r\n",
    "test_ep_rets = running_mean(ep_rets, 10)"
   ]
  },
  {
   "cell_type": "code",
   "execution_count": 22,
   "metadata": {},
   "outputs": [],
   "source": [
    "pickle.dump(ep_rets, open('results/task3/ep_rets_trained_gamma099qlr00001plr00001'+'.ddpg', 'wb'), -1)         # saving the results for rewards per test episode 100 epochs, gamma 0.99 qlr 0.0001 plr 0.0001"
   ]
  },
  {
   "cell_type": "code",
   "execution_count": 19,
   "metadata": {},
   "outputs": [
    {
     "data": {
      "image/png": "[encoded data removed]",
      "text/plain": "<Figure size 864x504 with 1 Axes>"
     },
     "metadata": {
      "needs_background": "light"
     },
     "output_type": "display_data"
    }
   ],
   "source": [
    "plt.figure(figsize=(12, 7))\r\n",
    "plt.plot(np.arange(0, 100, 1), ep_rets, 'r', linewidth=2.0, label='Lunar Lander Test')\r\n",
    "plt.title('Rewards per Episode for 100 Test Episodes γ=0.99', fontsize=18)\r\n",
    "plt.xlabel('Episodes', fontsize=16)\r\n",
    "plt.ylabel('Rewards per Episodes', fontsize=16)\r\n",
    "plt.legend(fontsize=12, loc='best')\r\n",
    "plt.savefig('results/task3/rewardstrained_gamma099qlr00001plr00001')\r\n",
    "plt.show()"
   ]
  },
  {
   "cell_type": "code",
   "execution_count": null,
   "metadata": {},
   "outputs": [],
   "source": []
  },
  {
   "cell_type": "code",
   "execution_count": null,
   "metadata": {},
   "outputs": [],
   "source": []
  },
  {
   "cell_type": "code",
   "execution_count": 24,
   "metadata": {},
   "outputs": [],
   "source": [
    "def generate_animation(env, agent, save_dir):\r\n",
    "    try:\r\n",
    "        env = gym.wrappers.Monitor(\r\n",
    "            env, save_dir, video_callable=lambda id: True, force=True, mode='evaluation')\r\n",
    "    except gym.error.Error as e:\r\n",
    "        print(e)\r\n",
    "\r\n",
    "    if not os.path.exists(save_dir):\r\n",
    "        os.makedirs(save_dir)\r\n",
    "        \r\n",
    "    state, done, ep_ret, ep_len = env.reset(), False, 0, 0\r\n",
    "    while not done:\r\n",
    "        state, reward, done, _ = env.step(agent.get_action(state, 0)) # take deterministic actions at test time (noise_scale=0)\r\n",
    "        ep_ret += reward\r\n",
    "        ep_len += 1\r\n",
    "\r\n",
    "    print('Reward: {}'.format(ep_ret))\r\n",
    "    env.close()\r\n",
    "            \r\n",
    "def display_animation(filepath):\r\n",
    "    video = io.open(filepath, 'r+b').read()\r\n",
    "    encoded = base64.b64encode(video)\r\n",
    "    return HTML(data='''<video alt=\"test\" controls>\r\n",
    "                <source src=\"data:video/mp4;base64,{0}\" type=\"video/mp4\" />\r\n",
    "                 </video>'''.format(encoded.decode('ascii')))"
   ]
  },
  {
   "cell_type": "code",
   "execution_count": 38,
   "metadata": {},
   "outputs": [
    {
     "name": "stdout",
     "output_type": "stream",
     "text": [
      "Reward: 256.9759361179502\n"
     ]
    },
    {
     "data": {
      "text/html": "<video alt=\"test\" controls>\n                <source src=\"data:video/mp4;base64,AAAAIGZ0eXBpc29tAAACAGlzb21pc28yYXZjMW1wNDEAAAAIZnJlZQAAAAhtZGF0AAAA1m1vb3YAAABsbXZoZAAAAAAAAAAAAAAAAAAAA+gAAAAAAAEAAAEAAAAAAAAAAAAAAAABAAAAAAAAAAAAAAAAAAAAAQAAAAAAAAAAAAAAAAAAQAAAAAAAAAAAAAAAAAAAAAAAAAAAAAAAAAAAAAAAAAIAAABidWR0YQAAAFptZXRhAAAAAAAAACFoZGxyAAAAAAAAAABtZGlyYXBwbAAAAAAAAAAAAAAAAC1pbHN0AAAAJal0b28AAAAdZGF0YQAAAAEAAAAATGF2ZjU4Ljc3LjEwMA==\" type=\"video/mp4\" />\n                 </video>",
      "text/plain": "<IPython.core.display.HTML object>"
     },
     "execution_count": 38,
     "metadata": {},
     "output_type": "execute_result"
    }
   ],
   "source": [
    "save_dir='results/task3/animation'            # animation of learned policy\r\n",
    "env = gym.make(env_name)\r\n",
    "generate_animation(env, agent, save_dir=save_dir)\r\n",
    "[filepath] = glob.glob(os.path.join(save_dir, '*.mp4'))\r\n",
    "display_animation(filepath)             # video file is in the directory if not working on notebook"
   ]
  }
 ],
 "metadata": {
  "kernelspec": {
   "display_name": "Python 3.8.7 64-bit",
   "name": "python387jvsc74a57bd02db524e06e9f5f4ffedc911c917cb75e12dbc923643829bf417064a77eb14d37"
  },
  "language_info": {
   "codemirror_mode": {
    "name": "ipython",
    "version": 3
   },
   "file_extension": ".py",
   "mimetype": "text/x-python",
   "name": "python",
   "nbconvert_exporter": "python",
   "pygments_lexer": "ipython3",
   "version": "3.8.7"
  },
  "orig_nbformat": 2
 },
 "nbformat": 4,
 "nbformat_minor": 2
}